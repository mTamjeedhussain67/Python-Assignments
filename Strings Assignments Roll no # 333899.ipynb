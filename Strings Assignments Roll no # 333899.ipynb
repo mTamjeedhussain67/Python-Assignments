{
 "cells": [
  {
   "cell_type": "markdown",
   "id": "bbd1c4c6-82ed-4015-8d74-a394ae958a97",
   "metadata": {},
   "source": [
    "# Raqib Ali AI-333134 "
   ]
  },
  {
   "cell_type": "markdown",
   "id": "2b2ea243-dab9-46db-8cb8-ec73c1ff7dc9",
   "metadata": {},
   "source": [
    "##                                                     Strings Assignments"
   ]
  },
  {
   "cell_type": "markdown",
   "id": "a57f81f3-7931-4ff2-af28-63a8de9ce9a3",
   "metadata": {},
   "source": [
    "### 1. Write a program that accepts a string from user. Your program should count and display number of vowels in that string. "
   ]
  },
  {
   "cell_type": "code",
   "execution_count": 74,
   "id": "0e1bebb4-e0fd-4588-a18d-64154cb5a719",
   "metadata": {},
   "outputs": [
    {
     "name": "stdout",
     "output_type": "stream",
     "text": [
      "Enter a string:  Tamjeed\n"
     ]
    },
    {
     "name": "stdout",
     "output_type": "stream",
     "text": [
      "The number of vowels in the string is: 3\n"
     ]
    }
   ],
   "source": [
    "def count_vowels(input_string):\n",
    "    vowels = 'aeiouAEIOU'  \n",
    "    count = 0\n",
    "    for char in input_string: \n",
    "        if char in vowels:  \n",
    "            count += 1\n",
    "    return count\n",
    "\n",
    "# Accept input from the user\n",
    "user_input = input(\"Enter a string: \")\n",
    "\n",
    "\n",
    "vowel_count = count_vowels(user_input)\n",
    "\n",
    "\n",
    "print(f\"The number of vowels in the string is: {vowel_count}\")\n"
   ]
  },
  {
   "cell_type": "markdown",
   "id": "950a47d9-f060-447b-92c5-a9fe6b0ced9d",
   "metadata": {},
   "source": [
    "### 2. Write a program that reads a string from keyboard and display: \n",
    "* The number of uppercase letters in the string \n",
    "* The number of lowercase letters in the string \n",
    "* The number of digits in the string \n",
    "* The number of whitespace characters in the string \n"
   ]
  },
  {
   "cell_type": "code",
   "execution_count": 76,
   "id": "60709d0f-78d6-4695-8004-a5d59b020bb5",
   "metadata": {},
   "outputs": [
    {
     "name": "stdout",
     "output_type": "stream",
     "text": [
      "Enter a string:  Tamjeed\n"
     ]
    },
    {
     "name": "stdout",
     "output_type": "stream",
     "text": [
      "The number of uppercase letters in the string is: 1\n",
      "The number of lowercase letters in the string is: 6\n",
      "The number of digits in the string is: 0\n",
      "The number of whitespace characters in the string is: 0\n"
     ]
    }
   ],
   "source": [
    "def analyze_string(input_string):\n",
    "    uppercase_count = 0\n",
    "    lowercase_count = 0\n",
    "    digit_count = 0\n",
    "    whitespace_count = 0\n",
    "\n",
    "    for char in input_string:\n",
    "        if char.isupper():\n",
    "            uppercase_count += 1\n",
    "        elif char.islower():\n",
    "            lowercase_count += 1\n",
    "        elif char.isdigit():\n",
    "            digit_count += 1\n",
    "        elif char.isspace():\n",
    "            whitespace_count += 1\n",
    "\n",
    "    return uppercase_count, lowercase_count, digit_count, whitespace_count\n",
    "\n",
    "\n",
    "user_input = input(\"Enter a string: \")\n",
    "\n",
    "\n",
    "uppercase_count, lowercase_count, digit_count, whitespace_count = analyze_string(user_input)\n",
    "\n",
    "print(f\"The number of uppercase letters in the string is: {uppercase_count}\")\n",
    "print(f\"The number of lowercase letters in the string is: {lowercase_count}\")\n",
    "print(f\"The number of digits in the string is: {digit_count}\")\n",
    "print(f\"The number of whitespace characters in the string is: {whitespace_count}\")\n"
   ]
  },
  {
   "cell_type": "markdown",
   "id": "f7aa6062-c30b-41f0-b817-05ed91b6ec6d",
   "metadata": {},
   "source": [
    "### 3. Write a Python program that accepts a string from user. Your program should create and display a new string where the first and last characters have been exchanged. \n"
   ]
  },
  {
   "cell_type": "code",
   "execution_count": 78,
   "id": "5bdd286d-cd03-4c0c-8a86-68bf0db6b843",
   "metadata": {},
   "outputs": [
    {
     "name": "stdout",
     "output_type": "stream",
     "text": [
      "Enter a string:  Tamjeed\n"
     ]
    },
    {
     "name": "stdout",
     "output_type": "stream",
     "text": [
      "The number of uppercase letters in the string is: 1\n",
      "The number of lowercase letters in the string is: 6\n",
      "The number of digits in the string is: 0\n",
      "The number of whitespace characters in the string is: 0\n",
      "The new string with first and last characters exchanged is: damjeeT\n"
     ]
    }
   ],
   "source": [
    "def analyze_string(input_string):\n",
    "    uppercase_count = 0\n",
    "    lowercase_count = 0\n",
    "    digit_count = 0\n",
    "    whitespace_count = 0\n",
    "\n",
    "    for char in input_string:\n",
    "        if char.isupper():\n",
    "            uppercase_count += 1\n",
    "        elif char.islower():\n",
    "            lowercase_count += 1\n",
    "        elif char.isdigit():\n",
    "            digit_count += 1\n",
    "        elif char.isspace():\n",
    "            whitespace_count += 1\n",
    "\n",
    "    return uppercase_count, lowercase_count, digit_count, whitespace_count\n",
    "\n",
    "\n",
    "def exchange_first_last(input_string):\n",
    "    if len(input_string) <= 1:\n",
    "        return input_string\n",
    "    return input_string[-1] + input_string[1:-1] + input_string[0]\n",
    "\n",
    "\n",
    "user_input = input(\"Enter a string: \")\n",
    "\n",
    "\n",
    "uppercase_count, lowercase_count, digit_count, whitespace_count = analyze_string(user_input)\n",
    "\n",
    "\n",
    "print(f\"The number of uppercase letters in the string is: {uppercase_count}\")\n",
    "print(f\"The number of lowercase letters in the string is: {lowercase_count}\")\n",
    "print(f\"The number of digits in the string is: {digit_count}\")\n",
    "print(f\"The number of whitespace characters in the string is: {whitespace_count}\")\n",
    "\n",
    "\n",
    "exchanged_string = exchange_first_last(user_input)\n",
    "print(f\"The new string with first and last characters exchanged is: {exchanged_string}\")\n"
   ]
  },
  {
   "cell_type": "markdown",
   "id": "39343471-78a9-4af2-94ae-f1cb6c00969d",
   "metadata": {},
   "source": [
    "### 4. Write a Python program that accepts a string from user. Your program should create a new string in reverse of first string and display it. \n"
   ]
  },
  {
   "cell_type": "code",
   "execution_count": 54,
   "id": "a8b5725e-9921-4d6c-b8f4-ef5536a9a91e",
   "metadata": {},
   "outputs": [
    {
     "name": "stdout",
     "output_type": "stream",
     "text": [
      "Enter a string:  Tamjeed\n"
     ]
    },
    {
     "name": "stdout",
     "output_type": "stream",
     "text": [
      "Reversed string: deejmaT\n"
     ]
    }
   ],
   "source": [
    "user_string = input(\"Enter a string: \")\n",
    "\n",
    "reversed_string = user_string[::-1]\n",
    "\n",
    "\n",
    "print(\"Reversed string:\", reversed_string)\n"
   ]
  },
  {
   "cell_type": "markdown",
   "id": "d2acf22b-803c-43f7-a5d3-f7b3c44dedc8",
   "metadata": {},
   "source": [
    "### 5. Write a Python program that accepts a string from user. Your program should create a new string by shifting one position to left. \n"
   ]
  },
  {
   "cell_type": "code",
   "execution_count": 56,
   "id": "4d401ad2-7496-4ee2-bcdd-f179ec3b1083",
   "metadata": {},
   "outputs": [
    {
     "name": "stdout",
     "output_type": "stream",
     "text": [
      "Enter a string:  tamjeed\n"
     ]
    },
    {
     "name": "stdout",
     "output_type": "stream",
     "text": [
      "Shifted string: amjeedt\n"
     ]
    }
   ],
   "source": [
    "user_string = input(\"Enter a string: \")\n",
    "\n",
    "if len(user_string) > 0:  \n",
    "    shifted_string = user_string[1:] + user_string[0]\n",
    "else:\n",
    "    shifted_string = user_string \n",
    "print(\"Shifted string:\", shifted_string)\n"
   ]
  },
  {
   "cell_type": "markdown",
   "id": "15a9cb4b-2f77-4a97-a8c7-c4b505532e9d",
   "metadata": {},
   "source": [
    "### 6. Write a program that asks the user to input his name and print its initials. Assuming that the user always types first name, middle name and last name and does not include any unnecessary spaces. "
   ]
  },
  {
   "cell_type": "code",
   "execution_count": 58,
   "id": "74aed794-c782-49f1-92e7-64dd0f76ee18",
   "metadata": {},
   "outputs": [
    {
     "name": "stdout",
     "output_type": "stream",
     "text": [
      "Enter your full name (first, middle, last):  Muhammad Tamjeed Hussain\n"
     ]
    },
    {
     "name": "stdout",
     "output_type": "stream",
     "text": [
      "Initials: M. T. H.\n"
     ]
    }
   ],
   "source": [
    "full_name = input(\"Enter your full name (first, middle, last): \")\n",
    "\n",
    "initials = \"\"\n",
    "\n",
    "\n",
    "for i in range(len(full_name)):\n",
    "    if i == 0 or full_name[i - 1] == \" \":\n",
    "        initials += full_name[i].upper() + \". \"\n",
    "\n",
    "print(\"Initials:\", initials.strip())\n"
   ]
  },
  {
   "cell_type": "markdown",
   "id": "b26ba9e7-9a15-42b9-86ea-73bf030ab366",
   "metadata": {},
   "source": [
    "### 7. A palindrome is a string that reads the same backward as forward. For example, the words dad, madam and radar are all palindromes. Write a programs that determines whether the string is a palindrome."
   ]
  },
  {
   "cell_type": "code",
   "execution_count": 66,
   "id": "c9be00f6-8a1a-49d3-8614-06586bc96abb",
   "metadata": {},
   "outputs": [
    {
     "name": "stdout",
     "output_type": "stream",
     "text": [
      "Enter a string:  deed\n"
     ]
    },
    {
     "name": "stdout",
     "output_type": "stream",
     "text": [
      "'deed' is a palindrome.\n"
     ]
    }
   ],
   "source": [
    "user_string = input(\"Enter a string: \")\n",
    "\n",
    "normalized_string = user_string.lower()\n",
    "\n",
    "is_palindrome = True\n",
    "for i in range(len(normalized_string) // 2):\n",
    "    if normalized_string[i] != normalized_string[-(i + 1)]:\n",
    "        is_palindrome = False\n",
    "        break\n",
    "\n",
    "if is_palindrome:\n",
    "    print(f\"'{user_string}' is a palindrome.\")\n",
    "else:\n",
    "    print(f\"'{user_string}' is not a palindrome.\")\n"
   ]
  },
  {
   "cell_type": "markdown",
   "id": "73280e4a-efad-46fe-aeaf-2d0be526a4bf",
   "metadata": {},
   "source": [
    "### 8. Write a program that display following output: \n",
    "- SHIFT \n",
    "- HIFTS \n",
    "- IFTSH \n",
    "- FTSHI \n",
    "- TSHIF \n",
    "- SHIFT"
   ]
  },
  {
   "cell_type": "code",
   "execution_count": 42,
   "id": "1aa92ef8-5303-4632-a788-4c1b25c09210",
   "metadata": {},
   "outputs": [
    {
     "name": "stdout",
     "output_type": "stream",
     "text": [
      "Write any Word:  SHIFT\n"
     ]
    },
    {
     "name": "stdout",
     "output_type": "stream",
     "text": [
      "SHIFT\n",
      "HIFTS\n",
      "IFTSH\n",
      "FTSHI\n",
      "TSHIF\n",
      "SHIFT\n"
     ]
    }
   ],
   "source": [
    "word = input(\"Write any Word: \")\n",
    "\n",
    "for i in range(len(word)):\n",
    "    shifted_word = word[i:] + word[:i]  \n",
    "    print(shifted_word)\n",
    "\n",
    "print(word)\n"
   ]
  },
  {
   "cell_type": "markdown",
   "id": "0abfb9de-4c7d-48d1-8f1a-4f9843ae81d3",
   "metadata": {},
   "source": [
    "### 9. Write a program in python that accepts a string to setup a passwords. Your entered password must meet the following requirements: \n",
    "- The password must be at least eight characters long. \n",
    "- It must contain at least one uppercase letter. \n",
    "- It must contain at least one lowercase letter. \n",
    "- It must contain at least one numeric digit. \n",
    "- Your program should should perform this validation. "
   ]
  },
  {
   "cell_type": "code",
   "execution_count": 72,
   "id": "8a36ab43-7baa-4148-82bf-b0e0e95e2bd3",
   "metadata": {},
   "outputs": [
    {
     "name": "stdout",
     "output_type": "stream",
     "text": [
      "Enter your password:  Tamjeed1234\n"
     ]
    },
    {
     "name": "stdout",
     "output_type": "stream",
     "text": [
      "Password is valid!\n"
     ]
    }
   ],
   "source": [
    "def validate_password(password):\n",
    "   \n",
    "    if len(password) < 8:\n",
    "        return \"Password must be at least 8 characters long.\"\n",
    "\n",
    "  \n",
    "    if not any(char.isupper() for char in password):\n",
    "        return \"Password must contain at least one uppercase letter.\"\n",
    "\n",
    "   \n",
    "    if not any(char.islower() for char in password):\n",
    "        return \"Password must contain at least one lowercase letter.\"\n",
    "\n",
    "    \n",
    "    if not any(char.isdigit() for char in password):\n",
    "        return \"Password must contain at least one numeric digit.\"\n",
    "\n",
    "    return \"Password is valid!\"\n",
    "\n",
    "\n",
    "user_password = input(\"Enter your password: \")\n",
    "\n",
    "\n",
    "result = validate_password(user_password)\n",
    "\n",
    "\n",
    "print(result)\n"
   ]
  }
 ],
 "metadata": {
  "kernelspec": {
   "display_name": "Python 3 (ipykernel)",
   "language": "python",
   "name": "python3"
  },
  "language_info": {
   "codemirror_mode": {
    "name": "ipython",
    "version": 3
   },
   "file_extension": ".py",
   "mimetype": "text/x-python",
   "name": "python",
   "nbconvert_exporter": "python",
   "pygments_lexer": "ipython3",
   "version": "3.12.7"
  }
 },
 "nbformat": 4,
 "nbformat_minor": 5
}
