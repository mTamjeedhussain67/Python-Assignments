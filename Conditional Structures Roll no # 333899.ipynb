{
 "cells": [
  {
   "cell_type": "markdown",
   "id": "3f596ff8-aee7-4d5b-9f8d-3d81c10353f2",
   "metadata": {},
   "source": [
    "# Name: Muhammad Tamjeed Hussain - Roll: 333998"
   ]
  },
  {
   "cell_type": "markdown",
   "id": "5545f2b4-ce47-438d-ae64-ded345052bf7",
   "metadata": {},
   "source": [
    "## Conditional Structures Assignment"
   ]
  },
  {
   "cell_type": "code",
   "execution_count": null,
   "id": "928e2c39-3e11-44e6-aaaf-908ba004b257",
   "metadata": {},
   "outputs": [],
   "source": []
  }
 ],
 "metadata": {
  "kernelspec": {
   "display_name": "Python 3 (ipykernel)",
   "language": "python",
   "name": "python3"
  },
  "language_info": {
   "codemirror_mode": {
    "name": "ipython",
    "version": 3
   },
   "file_extension": ".py",
   "mimetype": "text/x-python",
   "name": "python",
   "nbconvert_exporter": "python",
   "pygments_lexer": "ipython3",
   "version": "3.12.7"
  }
 },
 "nbformat": 4,
 "nbformat_minor": 5
}
