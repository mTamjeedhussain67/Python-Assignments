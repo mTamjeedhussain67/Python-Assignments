{
 "cells": [
  {
   "cell_type": "markdown",
   "id": "7fe4bd81-ece3-410a-9126-855abc6beacf",
   "metadata": {},
   "source": [
    "# Name: Muhammad Tamjeed Hussain"
   ]
  },
  {
   "cell_type": "markdown",
   "id": "46c04426-0b28-4dc1-abb4-b37ed1b9aaca",
   "metadata": {},
   "source": [
    "# Roll No: 333899"
   ]
  },
  {
   "cell_type": "markdown",
   "id": "9ccfa0af-37f8-4590-b3c1-2c793bcea099",
   "metadata": {},
   "source": [
    "## 1. Write a Python program to create a class called \"Person\" with properties for \n",
    "name, age and country. Include a method to display the person's details. Create \n",
    "two instances of the 'Person' class and display their details. "
   ]
  },
  {
   "cell_type": "code",
   "execution_count": 10,
   "id": "c23ebd1c-a8c3-4236-8749-f9b434a69a5f",
   "metadata": {},
   "outputs": [],
   "source": [
    "class Person:\n",
    "    def __init__(self,name,age,nation):\n",
    "        self.name=name\n",
    "        self.age=age\n",
    "        self.country=nation\n",
    "        print(\"\\nProfile Created\")\n",
    "    def Describe(self):\n",
    "        print(f\"\\nName : {self.name}\\nAge : {self.age}\\nNationality : {self.country}\")"
   ]
  },
  {
   "cell_type": "code",
   "execution_count": 12,
   "id": "262e1f83-f2ec-4a4d-bc08-087582af0759",
   "metadata": {},
   "outputs": [
    {
     "name": "stdout",
     "output_type": "stream",
     "text": [
      "\n",
      "Profile Created\n",
      "\n",
      "Profile Created\n"
     ]
    }
   ],
   "source": [
    "p1=Person(\"Seraph\" ,26, \"Pakistani\")\n",
    "p2=Person(\"Taha\" ,21, \"Pakistani\")"
   ]
  },
  {
   "cell_type": "code",
   "execution_count": 14,
   "id": "d36ec467-5d06-4208-babb-51085e4c53de",
   "metadata": {},
   "outputs": [
    {
     "name": "stdout",
     "output_type": "stream",
     "text": [
      "\n",
      "Name : Seraph\n",
      "Age : 26\n",
      "Nationality : Pakistani\n",
      "\n",
      "Name : Taha\n",
      "Age : 21\n",
      "Nationality : Pakistani\n"
     ]
    }
   ],
   "source": [
    "p1. Describe()\n",
    "p2. Describe()"
   ]
  },
  {
   "cell_type": "markdown",
   "id": "f876d8a9-ef5e-4a6f-b34e-4fc49edd5f22",
   "metadata": {},
   "source": [
    "# 2. Write a Python program to create a class called 'Rectangle' with properties for \n",
    "      width and height. Include two methods to calculate rectangle area and perimeter. \n",
    "      Create an instance of the 'Rectangle' class and calculate its area and perimeter. "
   ]
  },
  {
   "cell_type": "code",
   "execution_count": 17,
   "id": "344f8aec-c2a5-49ee-ac2f-637846a0ab69",
   "metadata": {},
   "outputs": [],
   "source": [
    "class Rectangle:\n",
    "    def __init__(self,width,length):\n",
    "        self.width=width\n",
    "        self.length=length\n",
    "\n",
    "    def Area(self):\n",
    "        Area=self.width*self.length\n",
    "        print(f\"The Area of Rectangle is {Area}.\")\n",
    "    def Perimeter(self):\n",
    "        Perimeter=(self.length*self.width)*2\n",
    "        print(f\"The Perimeter of Rectangle is {Perimeter}\")"
   ]
  },
  {
   "cell_type": "code",
   "execution_count": 19,
   "id": "08ac85d5-f3af-42bc-8fe4-95c23474d11b",
   "metadata": {},
   "outputs": [],
   "source": [
    "InstanceRectangle=Rectangle(45,20)"
   ]
  },
  {
   "cell_type": "code",
   "execution_count": 23,
   "id": "e586d4f2-d9b4-428e-b481-4d20b8eafc3a",
   "metadata": {},
   "outputs": [
    {
     "name": "stdout",
     "output_type": "stream",
     "text": [
      "The Area of Rectangle is 900.\n",
      "The Perimeter of Rectangle is 1800\n"
     ]
    }
   ],
   "source": [
    "InstanceRectangle.Area()\n",
    "InstanceRectangle.Perimeter()"
   ]
  },
  {
   "cell_type": "markdown",
   "id": "2f2b2cea-7715-4781-8e02-2c267323e1e9",
   "metadata": {},
   "source": [
    "# 3. Write a Python program that creates a class called 'Vehicle' with properties for \n",
    "    make, model, and year. Include a method to display vehicle details. Create a \n",
    "    subclass called 'Car' that inherits from the 'Vehicle' class and includes an \n",
    "    additional property for the number of doors. Override the display method to \n",
    "    include the number of doors. \n"
   ]
  },
  {
   "cell_type": "code",
   "execution_count": 42,
   "id": "63481cb7-f5f7-46b0-bcb1-759ee782757a",
   "metadata": {},
   "outputs": [],
   "source": [
    "class Vehicle:\n",
    "    def __init__(self,make,model,year):\n",
    "        self.make=make\n",
    "        self.model=model\n",
    "        self.year=year\n",
    "    def Details(self):\n",
    "        print(f\"\\nMake : {self.make}\\nModel : {self.model}\\nYear : {self.year}\")\n",
    "\n",
    "class Car(Vehicle):\n",
    "    def __init__(self,make,model,year,doors):\n",
    "        super() .__init__(make,model,year)\n",
    "        self.doors=doors\n",
    "    def Details(self):\n",
    "        print(f\"\\nMake : {self.make}\\nModel : {self.model}\\nYear : {self.year}\\nDoors : {self.doors}\")"
   ]
  },
  {
   "cell_type": "code",
   "execution_count": 44,
   "id": "b09449b4-628c-4ce9-b425-773bb6580ee5",
   "metadata": {},
   "outputs": [],
   "source": [
    "v1=Vehicle(\"Tesla\",\"Model 2\", 2025)\n",
    "c1=Car(\"Honda\", \"Civic\",2025,4)"
   ]
  },
  {
   "cell_type": "code",
   "execution_count": 46,
   "id": "31f756e3-6550-4987-9f15-52c5eafe25ea",
   "metadata": {},
   "outputs": [
    {
     "name": "stdout",
     "output_type": "stream",
     "text": [
      "\n",
      "Make : Tesla\n",
      "Model : Model 2\n",
      "Year : 2025\n",
      "\n",
      "Make : Honda\n",
      "Model : Civic\n",
      "Year : 2025\n",
      "Doors : 4\n"
     ]
    }
   ],
   "source": [
    "v1. Details()\n",
    "c1. Details()"
   ]
  },
  {
   "cell_type": "markdown",
   "id": "c5486099-4800-4085-8fbc-55ee91643558",
   "metadata": {},
   "source": [
    "# 4. Write a Python program that creates a class called \"BankAccount\" with \n",
    "    properties for account number and balance. Include methods to deposit and \n",
    "    withdraw money from the account. Create some instances of the \"BankAccount\" \n",
    "    class, deposit some money, and withdraw a portion of it. "
   ]
  },
  {
   "cell_type": "code",
   "execution_count": 57,
   "id": "3c046f78-0958-4e91-abf1-dbb0c611566e",
   "metadata": {},
   "outputs": [],
   "source": [
    "class BalanceException(Exception):\n",
    "    pass\n",
    "\n",
    "class BankAccount:\n",
    "    def __init__(self,accname,amm):\n",
    "        self.name=accname\n",
    "        self.balance=amm\n",
    "        print(\"\\nAccount Created\")\n",
    "    def getBalance(self):\n",
    "        print(f\"Account '{self.name}' Balance = ${self.balance}\")\n",
    "    def Deposit(self,amount):\n",
    "        self.balance=self.balance+amount\n",
    "        print(\"Deposit Successful\")\n",
    "        self.getBalance()\n",
    "    def viableTransaction(self,amount):\n",
    "        if self.balance>=amount:\n",
    "            return\n",
    "        else:\n",
    "            raise BalanceException(f\"Sorry Account '{self.name}' has balance of {self.balance}\")\n",
    "    def Withdraw(self,amount):\n",
    "        try:\n",
    "            self.viableTransaction(amount)\n",
    "            self.balance=self.balance-amount\n",
    "            print(\"Withdraw Successful\")\n",
    "            self.getBalance()\n",
    "        except BalanceException as Error:\n",
    "            print(f\"Withdrawl Interupted\\n{Error}\")"
   ]
  },
  {
   "cell_type": "code",
   "execution_count": 59,
   "id": "ff50482a-e723-4cfb-9704-b1369e3ca8e6",
   "metadata": {},
   "outputs": [
    {
     "name": "stdout",
     "output_type": "stream",
     "text": [
      "\n",
      "Account Created\n"
     ]
    }
   ],
   "source": [
    "b1=BankAccount(\"Raqib\",500)"
   ]
  },
  {
   "cell_type": "code",
   "execution_count": 61,
   "id": "f4aebe39-e03e-4766-a853-e05ce085e448",
   "metadata": {},
   "outputs": [
    {
     "name": "stdout",
     "output_type": "stream",
     "text": [
      "Account 'Raqib' Balance = $500\n"
     ]
    }
   ],
   "source": [
    "b1.getBalance()"
   ]
  },
  {
   "cell_type": "code",
   "execution_count": 63,
   "id": "39f764c6-8860-4c4a-a8a3-62ee34384bd9",
   "metadata": {},
   "outputs": [
    {
     "name": "stdout",
     "output_type": "stream",
     "text": [
      "Deposit Successful\n",
      "Account 'Raqib' Balance = $800\n"
     ]
    }
   ],
   "source": [
    "b1.Deposit(300)"
   ]
  },
  {
   "cell_type": "code",
   "execution_count": 67,
   "id": "c20a8887-f2a4-4c57-b5b7-a50a9a854302",
   "metadata": {},
   "outputs": [
    {
     "name": "stdout",
     "output_type": "stream",
     "text": [
      "Withdraw Successful\n",
      "Account 'Raqib' Balance = $700\n"
     ]
    }
   ],
   "source": [
    "b1.Withdraw(100)"
   ]
  },
  {
   "cell_type": "code",
   "execution_count": 71,
   "id": "b7fed916-36cf-4683-984f-3a628a529635",
   "metadata": {},
   "outputs": [
    {
     "name": "stdout",
     "output_type": "stream",
     "text": [
      "Withdrawl Interupted\n",
      "Sorry Account 'Raqib' has balance of 700\n"
     ]
    }
   ],
   "source": [
    "b1.Withdraw(1000)"
   ]
  },
  {
   "cell_type": "markdown",
   "id": "8923c877-763f-44a2-8433-aa4b995480b8",
   "metadata": {},
   "source": [
    "# 5. Write a Python program that creates a class called 'Shape' with a method to \n",
    "    calculate the area. Create two subclasses, 'Circle' and 'Triangle', that inherit from \n",
    "    the 'Shape' class and override the area calculation method. Create an instance of \n",
    "    the 'Circle' class and calculate its area. Similarly, do the same for the 'Triangle' \n",
    "    class. "
   ]
  },
  {
   "cell_type": "code",
   "execution_count": 4,
   "id": "c00ddee2-4c1d-4f99-95a2-dafd9848e9ec",
   "metadata": {},
   "outputs": [
    {
     "name": "stdout",
     "output_type": "stream",
     "text": [
      "Area of the Circle: 78.54\n",
      "Area of the Triangle: 35.00\n"
     ]
    }
   ],
   "source": [
    "import math\n",
    "\n",
    "# Base class\n",
    "class Shape:\n",
    "    def area(self):\n",
    "        raise NotImplementedError(\"This method should be overridden by subclasses\")\n",
    "\n",
    "# Subclass for Circle\n",
    "class Circle(Shape):\n",
    "    def __init__(self, radius):\n",
    "        self.radius = radius\n",
    "\n",
    "    def area(self):\n",
    "        return math.pi * self.radius ** 2\n",
    "\n",
    "# Subclass for Triangle\n",
    "class Triangle(Shape):\n",
    "    def __init__(self, base, height):\n",
    "        self.base = base\n",
    "        self.height = height\n",
    "\n",
    "    def area(self):\n",
    "        return 0.5 * self.base * self.height\n",
    "\n",
    "# Create an instance of Circle\n",
    "circle = Circle(5)  # Radius = 5\n",
    "print(f\"Area of the Circle: {circle.area():.2f}\")\n",
    "\n",
    "# Create an instance of Triangle\n",
    "triangle = Triangle(10, 7)  # Base = 10, Height = 7\n",
    "print(f\"Area of the Triangle: {triangle.area():.2f}\")"
   ]
  },
  {
   "cell_type": "markdown",
   "id": "56727e8e-9801-4162-8743-47a215d91686",
   "metadata": {},
   "source": [
    "# 6. Write a Python program that creates a class called 'Employee' with properties \n",
    "    for name and salary. Include a method to calculate annual salary. Create a \n",
    "    subclass called 'Manager' that inherits from the 'Employee' class and adds an \n",
    "    additional property for department. Override the annual salary calculation method \n",
    "    to include bonuses for managers. Create two instances of the 'Manager' class \n",
    "      and calculate their annual salary."
   ]
  },
  {
   "cell_type": "code",
   "execution_count": 19,
   "id": "85aa0440-949b-4406-848a-01efaf234c13",
   "metadata": {},
   "outputs": [],
   "source": [
    "class Employee:\n",
    "    def __init__(self,name,salary):\n",
    "        self.name=name\n",
    "        self.salary=salary\n",
    "\n",
    "    def AnnualSalary(self):\n",
    "        print(f\"\\nEmployee:\\nName : {self.name}\\nSalary : {self.salary*12}\")\n",
    "\n",
    "class Manager(Employee):\n",
    "    def __init__(self,name,salary,dept):\n",
    "        super() .__init__(name,salary)\n",
    "        self.dept=dept\n",
    "    def AnnualSalary(self):\n",
    "        print(f\"\\nManager:\\nName : {self.name}\\nSalary : {(self.salary*12)}\\nWith Bonus : {(self.salary*12)+50000}\\nDepartment : {self.dept}\")\n",
    "        print(\"Manager Gets 50000 Bonus Annually\")"
   ]
  },
  {
   "cell_type": "code",
   "execution_count": 21,
   "id": "563caf45-a21b-40f5-a3ae-38443bb7f10c",
   "metadata": {},
   "outputs": [],
   "source": [
    "e1=Employee(\"Taha\" ,200000)\n",
    "m1=Manager(\"Seraph\" ,320000,\"Supervisior\")"
   ]
  },
  {
   "cell_type": "code",
   "execution_count": 23,
   "id": "026c13fb-66a4-426d-9ba5-976a97d3ea7d",
   "metadata": {},
   "outputs": [
    {
     "name": "stdout",
     "output_type": "stream",
     "text": [
      "\n",
      "Employee:\n",
      "Name : Taha\n",
      "Salary : 2400000\n",
      "\n",
      "Manager:\n",
      "Name : Seraph\n",
      "Salary : 3840000\n",
      "With Bonus : 3890000\n",
      "Department : Supervisior\n",
      "Manager Gets 50000 Bonus Annually\n"
     ]
    }
   ],
   "source": [
    "e1.AnnualSalary()\n",
    "m1.AnnualSalary()"
   ]
  },
  {
   "cell_type": "markdown",
   "id": "f1e48d61-ac64-4261-998c-02b6844a829e",
   "metadata": {},
   "source": [
    "# 7. Write a Python program that creates a class `Book` with properties for title, \n",
    "     author, and publication year. Include a method to display book details. Create a \n",
    "     subclass called 'Ebook' that inherits from the 'Book' class and includes an \n",
    "     additional property for book price. Override the display method to include the \n",
    "     book price. Create an instance of the 'Ebook' class and display its details"
   ]
  },
  {
   "cell_type": "code",
   "execution_count": 40,
   "id": "9c2d8b5b-e53c-4a54-a86c-48b0d090bcb7",
   "metadata": {},
   "outputs": [],
   "source": [
    "class Book:\n",
    "    def __init__(self,title,author,publicationyear):\n",
    "        self.name=title\n",
    "        self.writer=author\n",
    "        self.year=publicationyear\n",
    "    def Details(self):\n",
    "        print(f\"\\nBook\\nTitle : {self.name}\\nAuthor : {self.writer}\\nYear Of Publication : {self.year}\")\n",
    "\n",
    "class Ebook(Book):\n",
    "    def __init__(self,title,author,publicationyear,price):\n",
    "        super() .__init__(title,author,publicationyear)\n",
    "        self.price=price\n",
    "    def Details(self):\n",
    "        print(f\"\\nEbook\\nTitle : {self.name}\\nAuthor : {self.writer}\\nYear Of Publication : {self.year}\\nPrice : {self.price}\")"
   ]
  },
  {
   "cell_type": "code",
   "execution_count": 42,
   "id": "33899776-7024-4f88-bcfc-759551208d67",
   "metadata": {},
   "outputs": [],
   "source": [
    "b1=Book(\"The Communist Maefesto\",\"Karl Marx\",1848)\n",
    "eb1=Ebook(\"Mein Kampl\",\"Adolf Hitler\",1925,\"$200\")"
   ]
  },
  {
   "cell_type": "code",
   "execution_count": 44,
   "id": "678c70f6-7f4a-4809-bb0f-462eecc6b8c0",
   "metadata": {},
   "outputs": [
    {
     "name": "stdout",
     "output_type": "stream",
     "text": [
      "\n",
      "Book\n",
      "Title : The Communist Maefesto\n",
      "Author : Karl Marx\n",
      "Year Of Publication : 1848\n",
      "\n",
      "Ebook\n",
      "Title : Mein Kampl\n",
      "Author : Adolf Hitler\n",
      "Year Of Publication : 1925\n",
      "Price : $200\n"
     ]
    }
   ],
   "source": [
    "b1 .Details()\n",
    "eb1 .Details()"
   ]
  },
  {
   "cell_type": "markdown",
   "id": "5d7e85b6-375f-4de4-83c5-0281da11a54a",
   "metadata": {},
   "source": [
    "# 8. Write a Python program that creates a class called 'Animal' with properties for \n",
    "    species and sound. Include a method to make the animal's sound. Create a \n",
    "    subclass called 'Dog' that inherits from the 'Animal' class and adds an additional \n",
    "    property for color. Override the make sound method to include the dog's color. \n",
    "    Create an instance of the 'Dog' class and make it make its sound. "
   ]
  },
  {
   "cell_type": "code",
   "execution_count": 61,
   "id": "1219c3fe-31ff-4006-aafe-916845dca9c5",
   "metadata": {},
   "outputs": [],
   "source": [
    "class Animal:\n",
    "    def __init__(self,species,sound):\n",
    "        self.name=species\n",
    "        self.sound=sound\n",
    "    def makeSound(self):\n",
    "        print(f\"\\nMake Sound...\\n{self.sound}\")\n",
    "\n",
    "class Dog(Animal):\n",
    "    def __init__(self,species,sound,color):\n",
    "        super().__init__(species,sound)\n",
    "        self.color=color\n",
    "    def makeSound(self):\n",
    "        print(f\"\\nMake Sound....\\n{self.sound}\")\n",
    "        print(f\"What is your color....\\n{self.color}\")"
   ]
  },
  {
   "cell_type": "code",
   "execution_count": 63,
   "id": "3427c925-39aa-4a72-b22e-31b67b007d71",
   "metadata": {},
   "outputs": [],
   "source": [
    "a1=Animal(\"Tiger\",\"Roar\")\n",
    "d1=Dog(\"German Shepherd\", \"Bark\",\"Black Brown\")"
   ]
  },
  {
   "cell_type": "code",
   "execution_count": 65,
   "id": "a373a9a3-dce1-411b-a304-504cd45d6930",
   "metadata": {},
   "outputs": [
    {
     "name": "stdout",
     "output_type": "stream",
     "text": [
      "\n",
      "Make Sound...\n",
      "Roar\n",
      "\n",
      "Make Sound....\n",
      "Bark\n",
      "What is your color....\n",
      "Black Brown\n"
     ]
    }
   ],
   "source": [
    "a1.makeSound()\n",
    "d1.makeSound()"
   ]
  },
  {
   "cell_type": "markdown",
   "id": "65b38dbf-d07f-4aef-96d3-ec1b58f6ad50",
   "metadata": {},
   "source": [
    "# 9. Write a Python program that creates a class called Bank with properties for \n",
    "    bank names and branches. Include methods to add a branch, remove a branch, \n",
    "    and display all branches. Create an instance of the Bank class and perform \n",
    "     operations to add and remove branches"
   ]
  },
  {
   "cell_type": "code",
   "execution_count": 99,
   "id": "bab93579-16a9-4a34-a462-e0fdae24e8f9",
   "metadata": {},
   "outputs": [],
   "source": [
    "class Bank:\n",
    "    def __init__(self,name,branch):\n",
    "        self.name=name\n",
    "        self.branch=[branch]\n",
    "        print(\"\\nBank Registered\")\n",
    "    def Details(self):\n",
    "        print(f\"\\nBank Name : {self.name}\\nBranches : {self.branch}\")\n",
    "    def addBranch(self,branch):\n",
    "        self.branch.append(branch)\n",
    "        print(\"New Branch Have Been Contructed\")\n",
    "        self.Details()\n",
    "    def remBranch(self,branch):\n",
    "        try:\n",
    "            self.branch.remove(branch)\n",
    "            print(\"Branch Destroyed\")\n",
    "            self.Details()\n",
    "        except:\n",
    "            print(\"Branch Does Not Exist\")"
   ]
  },
  {
   "cell_type": "code",
   "execution_count": 101,
   "id": "5f523575-f484-4285-bf7c-3b03679d44a5",
   "metadata": {},
   "outputs": [
    {
     "name": "stdout",
     "output_type": "stream",
     "text": [
      "\n",
      "Bank Registered\n"
     ]
    }
   ],
   "source": [
    "bank1=Bank(\"Habib Bank\",\"Korangi\")"
   ]
  },
  {
   "cell_type": "code",
   "execution_count": 103,
   "id": "008f113c-52b8-4be2-b167-9727555b160d",
   "metadata": {},
   "outputs": [
    {
     "name": "stdout",
     "output_type": "stream",
     "text": [
      "\n",
      "Bank Name : Habib Bank\n",
      "Branches : ['Korangi']\n"
     ]
    }
   ],
   "source": [
    "bank1.Details()"
   ]
  },
  {
   "cell_type": "code",
   "execution_count": 105,
   "id": "8724e47c-dad1-4134-a04f-4938bf3ee98e",
   "metadata": {},
   "outputs": [
    {
     "name": "stdout",
     "output_type": "stream",
     "text": [
      "New Branch Have Been Contructed\n",
      "\n",
      "Bank Name : Habib Bank\n",
      "Branches : ['Korangi', 'Defence']\n"
     ]
    }
   ],
   "source": [
    "bank1 .addBranch(\"Defence\")"
   ]
  },
  {
   "cell_type": "code",
   "execution_count": 107,
   "id": "c1bb3a0a-4052-4e34-b71a-4c694469a88d",
   "metadata": {},
   "outputs": [
    {
     "name": "stdout",
     "output_type": "stream",
     "text": [
      "Branch Destroyed\n",
      "\n",
      "Bank Name : Habib Bank\n",
      "Branches : ['Defence']\n"
     ]
    }
   ],
   "source": [
    "bank1.remBranch(\"Korangi\")"
   ]
  },
  {
   "cell_type": "code",
   "execution_count": 109,
   "id": "200a2477-b804-4c1f-8cfd-daeb68cd6589",
   "metadata": {},
   "outputs": [
    {
     "name": "stdout",
     "output_type": "stream",
     "text": [
      "Branch Destroyed\n",
      "\n",
      "Bank Name : Habib Bank\n",
      "Branches : []\n"
     ]
    }
   ],
   "source": [
    "bank1.remBranch(\"Defence\")"
   ]
  },
  {
   "cell_type": "markdown",
   "id": "07a6a92f-317c-45d1-b721-ee083370eb2a",
   "metadata": {},
   "source": [
    "# 10. Write a Python program that creates a class called Product with properties for \n",
    "    product ID, name, and price. Include a method to calculate the total price by \n",
    "    multiplying the price by the quantity. Create a subclass called \n",
    "    PersonalCareProduct that inherits from the Product class and adds an additional \n",
    "    property for the warranty period. Override the total price calculation method to \n",
    "    include the warranty period. Create an instance of the PersonalCareProduct \n",
    "    class and calculate its total price. "
   ]
  },
  {
   "cell_type": "code",
   "execution_count": 130,
   "id": "0e3357ae-a9ae-400e-bbac-da1dab3bda7d",
   "metadata": {},
   "outputs": [],
   "source": [
    "class Product:\n",
    "    def __init__(self,productid,name,price):\n",
    "        self.name=name\n",
    "        self.ID=productid\n",
    "        self.price=price\n",
    "    def TotalPrice(self,quantity):\n",
    "        Total=self.price*quantity\n",
    "        print(f\"\\nProduct Name : {self.name}\\nProduct Price : Rs.{self.price}\\nQuantity : {quantity}\\nTotal : Rs.{Total}\")\n",
    "\n",
    "class PersonalCareProduct(Product):\n",
    "    def TotalPrice(self,quantity):\n",
    "        print(\"Is Your Product Within Warranty. Press Y Or N\")\n",
    "        inp=input() . capitalize()\n",
    "        if inp==\"Y\":\n",
    "            print(f\"\\nProduct Name : {self.name}\\nProduct Price : Rs.{self.price}\\nQuantity : {quantity}\\nTotal Within Warranty : Rs.{Total}\")\n",
    "        else:\n",
    "            Total=self.price*quantity\n",
    "            print(f\"\\nProduct Name : {self.name}\\nProduct Price : Rs.{self.price}\\nQuantity : {quantity}\\nTotal : Rs.{Total}\")"
   ]
  },
  {
   "cell_type": "code",
   "execution_count": 132,
   "id": "b1681d32-ee12-4760-b7a7-02a287a2db2b",
   "metadata": {},
   "outputs": [],
   "source": [
    "Dishes=Product(2020,\"Dishes\",2)\n",
    "Cream=PersonalCareProduct(2024,\"Cream\",250)"
   ]
  },
  {
   "cell_type": "code",
   "execution_count": 134,
   "id": "98cd6e0d-98d5-495b-92dd-9e04b13385ee",
   "metadata": {},
   "outputs": [
    {
     "name": "stdout",
     "output_type": "stream",
     "text": [
      "\n",
      "Product Name : Dishes\n",
      "Product Price : Rs.2\n",
      "Quantity : 5\n",
      "Total : Rs.10\n",
      "Is Your Product Within Warranty. Press Y Or N\n"
     ]
    },
    {
     "name": "stdin",
     "output_type": "stream",
     "text": [
      " \n"
     ]
    },
    {
     "name": "stdout",
     "output_type": "stream",
     "text": [
      "\n",
      "Product Name : Cream\n",
      "Product Price : Rs.250\n",
      "Quantity : 1\n",
      "Total : Rs.250\n"
     ]
    }
   ],
   "source": [
    "Dishes.TotalPrice(5)\n",
    "Cream.TotalPrice(1)"
   ]
  },
  {
   "cell_type": "markdown",
   "id": "001699d2-0b45-4878-ab82-f52a43e2a321",
   "metadata": {},
   "source": [
    "# 11. Write a Python program that creates a class called BankAccount with \n",
    "     properties for account number, account holder name, and balance. Include \n",
    "     methods to deposit, withdraw, and transfer money between accounts. Create \n",
    "     multiple instances of the BankAccount class and perform operations such as \n",
    "      depositing, withdrawing, and transferring money."
   ]
  },
  {
   "cell_type": "code",
   "execution_count": 75,
   "id": "81207882-6ba5-474a-a75a-1297cec54296",
   "metadata": {},
   "outputs": [],
   "source": [
    "class Bank:\n",
    "    def __init__(self,accountholder,accountbalance=0):\n",
    "        self.name=accountholder\n",
    "        self.balance=accountbalance\n",
    "        self.transaction=[]\n",
    "    def Balance(self):\n",
    "        print(f\"{self.name} Balance is {self.balance}\")\n",
    "    def Deposit(self,amount):\n",
    "        self.balance=self.balance+amount\n",
    "        self.Transactions(f\"Deposit : {amount}\")\n",
    "        self.Balance()\n",
    "        print(\"\\nDeposit Complete\")\n",
    "    def Withdraw(self,amount):\n",
    "        try:\n",
    "            if self.balance>amount:\n",
    "                self.balance=self.balance-amount\n",
    "                self.Transactions(f\"Withdraw : {amount}\")\n",
    "                self.Balance()\n",
    "            else:\n",
    "                print(\"\\nBalance is Low\")\n",
    "        except:\n",
    "            print(\"Withdraw Interupted\")\n",
    "    def Transactions(self,description):\n",
    "        self.transaction.append(description)\n",
    "    def Transferfund(self,amount,account):\n",
    "        try:\n",
    "            print(\"\\nProcessing\")\n",
    "            self.Withdraw(amount)\n",
    "            account.Deposit(amount)\n",
    "            print(\"\\nTransfer Completed\")\n",
    "        except:\n",
    "            print(\"\\nTransfer Interrupted\")"
   ]
  },
  {
   "cell_type": "code",
   "execution_count": 81,
   "id": "9e14098f-dfd7-4d1d-96bd-52c44c5c4702",
   "metadata": {},
   "outputs": [],
   "source": [
    "Seraph=Bank(\"Seraph\",4500)\n",
    "Taha=Bank(\"Taha\",5500)"
   ]
  },
  {
   "cell_type": "code",
   "execution_count": 83,
   "id": "a01bb49a-75fa-4975-98da-a9711a60d72c",
   "metadata": {},
   "outputs": [
    {
     "name": "stdout",
     "output_type": "stream",
     "text": [
      "Seraph Balance is 5500\n",
      "\n",
      "Deposit Complete\n"
     ]
    }
   ],
   "source": [
    "Seraph.Deposit(1000)"
   ]
  },
  {
   "cell_type": "code",
   "execution_count": 85,
   "id": "0cffbb0f-cd20-4cbc-9ecb-edfbb08993ab",
   "metadata": {},
   "outputs": [
    {
     "name": "stdout",
     "output_type": "stream",
     "text": [
      "Taha Balance is 7000\n",
      "\n",
      "Deposit Complete\n"
     ]
    }
   ],
   "source": [
    "Taha.Deposit(1500)"
   ]
  },
  {
   "cell_type": "code",
   "execution_count": 87,
   "id": "14d70512-1b07-4da1-9ebd-cfa5b1095c1a",
   "metadata": {},
   "outputs": [
    {
     "name": "stdout",
     "output_type": "stream",
     "text": [
      "Seraph Balance is 5000\n"
     ]
    }
   ],
   "source": [
    "Seraph.Withdraw(500)"
   ]
  },
  {
   "cell_type": "code",
   "execution_count": 89,
   "id": "b046fb13-3021-4b64-8c40-03b39a292de6",
   "metadata": {},
   "outputs": [
    {
     "name": "stdout",
     "output_type": "stream",
     "text": [
      "\n",
      "Processing\n",
      "Seraph Balance is 4000\n",
      "Taha Balance is 8000\n",
      "\n",
      "Deposit Complete\n",
      "\n",
      "Transfer Completed\n"
     ]
    }
   ],
   "source": [
    "Seraph.Transferfund(1000,Taha)"
   ]
  },
  {
   "cell_type": "markdown",
   "id": "b7d6230a-50cf-49ea-bd29-dfce5a0bdbce",
   "metadata": {},
   "source": [
    "# 12. Write a Python program that creates a class called University with properties \n",
    "     for university name and departments. Include methods to add a department, \n",
    "     remove a department, and display all departments. Create an instance of the \n",
    "    University class and add and remove departments."
   ]
  },
  {
   "cell_type": "code",
   "execution_count": 39,
   "id": "fd3ad6cb-995c-4dbe-893b-7c4bf22e164e",
   "metadata": {},
   "outputs": [],
   "source": [
    "class University:\n",
    "    def __init__(self,name,departments):\n",
    "        self.name=name\n",
    "        self.dept=[departments]\n",
    "        print(\"\\nUniversity Registered by HEC\")\n",
    "        \n",
    "    def Details(self):\n",
    "        print(f\"\\nUniversity Name : {self.name}\\nDepartments : {self.dept}\")\n",
    "    def addBranch(self,branch):\n",
    "        self.dept.append(branch)\n",
    "        print(\"\\nBranch Constructed\")\n",
    "        self.Details()\n",
    "\n",
    "    def removeBranch(self,branch):\n",
    "        try:\n",
    "            self.dept.remove(branch)\n",
    "            print(\"\\nBranch Demolished.\")\n",
    "            self.Details()\n",
    "        except:\n",
    "            print(\"\\nBranch Does Not Exist\")"
   ]
  },
  {
   "cell_type": "code",
   "execution_count": 41,
   "id": "293d5a1f-f37d-4f96-8a05-1ae8bba69ce3",
   "metadata": {},
   "outputs": [
    {
     "name": "stdout",
     "output_type": "stream",
     "text": [
      "\n",
      "University Registered by HEC\n"
     ]
    }
   ],
   "source": [
    "uni1=University(\"Iqra University\",\"Malir\")"
   ]
  },
  {
   "cell_type": "code",
   "execution_count": 45,
   "id": "21667676-90c2-4a49-bdd3-cc85d8811784",
   "metadata": {},
   "outputs": [
    {
     "name": "stdout",
     "output_type": "stream",
     "text": [
      "\n",
      "Branch Constructed\n",
      "\n",
      "University Name : Iqra University\n",
      "Departments : ['Malir', 'University Road', 'Lahore']\n"
     ]
    }
   ],
   "source": [
    " uni1.addBranch(\"Lahore\")"
   ]
  },
  {
   "cell_type": "code",
   "execution_count": 47,
   "id": "cfe5fa1a-940f-4ab8-ab57-94296bea6ab5",
   "metadata": {},
   "outputs": [
    {
     "name": "stdout",
     "output_type": "stream",
     "text": [
      "\n",
      "Branch Demolished.\n",
      "\n",
      "University Name : Iqra University\n",
      "Departments : ['Malir', 'University Road']\n"
     ]
    }
   ],
   "source": [
    "uni1.removeBranch(\"Lahore\")"
   ]
  },
  {
   "cell_type": "code",
   "execution_count": 49,
   "id": "153a927f-fb92-41c4-857d-91e2b74ac795",
   "metadata": {},
   "outputs": [
    {
     "name": "stdout",
     "output_type": "stream",
     "text": [
      "\n",
      "Branch Does Not Exist\n"
     ]
    }
   ],
   "source": [
    "uni1.removeBranch(\"Lahore\")"
   ]
  },
  {
   "cell_type": "code",
   "execution_count": null,
   "id": "1e62b5dc-a681-4742-9677-811d3d11ffc3",
   "metadata": {},
   "outputs": [],
   "source": []
  }
 ],
 "metadata": {
  "kernelspec": {
   "display_name": "Python 3 (ipykernel)",
   "language": "python",
   "name": "python3"
  },
  "language_info": {
   "codemirror_mode": {
    "name": "ipython",
    "version": 3
   },
   "file_extension": ".py",
   "mimetype": "text/x-python",
   "name": "python",
   "nbconvert_exporter": "python",
   "pygments_lexer": "ipython3",
   "version": "3.12.7"
  }
 },
 "nbformat": 4,
 "nbformat_minor": 5
}
