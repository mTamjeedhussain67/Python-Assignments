{
 "cells": [
  {
   "cell_type": "markdown",
   "id": "f8e7a6a1-8fdb-47e9-9740-2d6589476e08",
   "metadata": {},
   "source": [
    "# Name: Muhammad Tamjeed Hussain - Roll: 333998"
   ]
  },
  {
   "cell_type": "markdown",
   "id": "8394fd3d-e7ad-44d3-885c-9e087e2c894f",
   "metadata": {},
   "source": [
    "### Assignment No. # 03"
   ]
  },
  {
   "cell_type": "markdown",
   "id": "628b3bc0-fd22-4f04-b629-3007a199402a",
   "metadata": {},
   "source": [
    "## 1) Area of a Rectangle"
   ]
  },
  {
   "cell_type": "code",
   "execution_count": 8,
   "id": "fc6b1799-e5af-4cce-88ea-f559d6c617df",
   "metadata": {},
   "outputs": [
    {
     "name": "stdin",
     "output_type": "stream",
     "text": [
      "What's the Length Value in meter?   10\n",
      "What's the Widht Value in meter?    5\n"
     ]
    },
    {
     "name": "stdout",
     "output_type": "stream",
     "text": [
      "50.0 Meter\n"
     ]
    }
   ],
   "source": [
    "L=float(input(\"What's the Length Value in meter?  \"))\n",
    "W=float(input(\"What's the Widht Value in meter?   \"))\n",
    "Area = L*W\n",
    "print(Area,\"Meter\")"
   ]
  },
  {
   "cell_type": "markdown",
   "id": "15db3fdb-4bfe-4dd7-8d11-f137cd78f843",
   "metadata": {},
   "source": [
    "## 2) Circumference of a Circle"
   ]
  },
  {
   "cell_type": "code",
   "execution_count": 11,
   "id": "58e27228-1ebf-409c-b42f-74d5483313d8",
   "metadata": {},
   "outputs": [
    {
     "name": "stdin",
     "output_type": "stream",
     "text": [
      "What's the Value of Radius in meter?   5\n"
     ]
    },
    {
     "name": "stdout",
     "output_type": "stream",
     "text": [
      "31.400000000000002 meter\n"
     ]
    }
   ],
   "source": [
    "r=float(input(\"What's the Value of Radius in meter?  \"))\n",
    "Circumference = 2*3.14*r\n",
    "print(Circumference,\"meter\")"
   ]
  },
  {
   "cell_type": "markdown",
   "id": "384310b2-9132-4d70-8c72-42acc569748d",
   "metadata": {},
   "source": [
    "## 3) Simple Interest"
   ]
  },
  {
   "cell_type": "code",
   "execution_count": 14,
   "id": "4a9814a0-f07a-48f1-8e68-ae2add624e61",
   "metadata": {},
   "outputs": [
    {
     "name": "stdin",
     "output_type": "stream",
     "text": [
      "Enter the Value of Principle?   5000\n",
      "Enter the Rate Value?  10\n",
      "Enter the Time?   1\n"
     ]
    },
    {
     "name": "stdout",
     "output_type": "stream",
     "text": [
      "RS 50000.0\n"
     ]
    }
   ],
   "source": [
    "P=float(input(\"Enter the Value of Principle?  \"))\n",
    "R=float(input(\"Enter the Rate Value? \"))\n",
    "T=float(input(\"Enter the Time?  \"))\n",
    "\n",
    "Simple_Interest = P*R*T\n",
    "print(\"RS\",Simple_Interest)"
   ]
  },
  {
   "cell_type": "markdown",
   "id": "dea08954-11e4-41c4-b7e6-6c2017ad498b",
   "metadata": {},
   "source": [
    "## 4) Speed of an Object"
   ]
  },
  {
   "cell_type": "code",
   "execution_count": 17,
   "id": "ab32a6fa-3f10-4322-b762-788964d68c3e",
   "metadata": {},
   "outputs": [
    {
     "name": "stdin",
     "output_type": "stream",
     "text": [
      "Enter the Distance in meter?  20\n",
      "Enter the Time in Second?  10\n"
     ]
    },
    {
     "name": "stdout",
     "output_type": "stream",
     "text": [
      "2.0 m/s\n"
     ]
    }
   ],
   "source": [
    "D=int(input(\"Enter the Distance in meter? \"))\n",
    "t=int(input(\"Enter the Time in Second? \" ))\n",
    "\n",
    "Speed = D/t\n",
    "print(Speed, \"m/s\")"
   ]
  },
  {
   "cell_type": "markdown",
   "id": "89ef8f87-4976-49f8-8892-62e8fd1fe2d2",
   "metadata": {},
   "source": [
    "## 5) BMI Calculator"
   ]
  },
  {
   "cell_type": "code",
   "execution_count": 22,
   "id": "299874eb-f699-4e9d-b8d5-f469546f4082",
   "metadata": {},
   "outputs": [
    {
     "name": "stdin",
     "output_type": "stream",
     "text": [
      "Enter the Weight?  55\n",
      "Enter the Height?  5.6\n"
     ]
    },
    {
     "name": "stdout",
     "output_type": "stream",
     "text": [
      "1.7538265306122451 kg/m2\n"
     ]
    }
   ],
   "source": [
    "W = float(input(\"Enter the Weight? \"))\n",
    "H = float(input(\"Enter the Height? \"))\n",
    "\n",
    "BMI = (W/H**2)\n",
    "print(BMI,\"kg/m2\")"
   ]
  },
  {
   "cell_type": "markdown",
   "id": "5d5028cd-fd9b-4dfc-9a46-636cce1cb72a",
   "metadata": {},
   "source": [
    "## 6) Force Using Newton's Second Law"
   ]
  },
  {
   "cell_type": "code",
   "execution_count": 25,
   "id": "941544b1-74df-4871-850c-1fe7e06a2ed8",
   "metadata": {},
   "outputs": [
    {
     "name": "stdin",
     "output_type": "stream",
     "text": [
      "Enter the Mass?   20\n",
      "Enter the Acceleration?  10\n"
     ]
    },
    {
     "name": "stdout",
     "output_type": "stream",
     "text": [
      "200.0 Newton\n"
     ]
    }
   ],
   "source": [
    "m = float(input(\"Enter the Mass?  \"))\n",
    "a = float(input(\"Enter the Acceleration? \"))\n",
    "\n",
    "Force = m*a\n",
    "print(Force,\"Newton\")"
   ]
  },
  {
   "cell_type": "markdown",
   "id": "fe0bc65a-ae8a-48e5-a9b1-9a87154faeb7",
   "metadata": {},
   "source": [
    "## 7) Compound Interest"
   ]
  },
  {
   "cell_type": "code",
   "execution_count": 30,
   "id": "3b3bb7d0-32c3-4739-9f2a-95b6d99cd39c",
   "metadata": {},
   "outputs": [
    {
     "name": "stdin",
     "output_type": "stream",
     "text": [
      "Enter the principal amount (P):  1000\n",
      "Enter the annual interest rate (r) in decimal (e.g., 0.05 for 5%):  5\n",
      "Enter the number of times interest is compounded per year (n):  1\n",
      "Enter the time in years (t):  1\n"
     ]
    },
    {
     "name": "stdout",
     "output_type": "stream",
     "text": [
      "The total amount after 1.0 years is: 6000.00\n"
     ]
    }
   ],
   "source": [
    "P = float(input(\"Enter the principal amount (P): \"))\n",
    "r = float(input(\"Enter the annual interest rate (r) in decimal (e.g., 0.05 for 5%): \"))\n",
    "n = int(input(\"Enter the number of times interest is compounded per year (n): \"))\n",
    "t = float(input(\"Enter the time in years (t): \"))\n",
    "\n",
    "A = P * (1 + r / n) ** (n * t)\n",
    "\n",
    "print(f\"The total amount after {t} years is: {A:.2f}\")\n"
   ]
  },
  {
   "cell_type": "markdown",
   "id": "147da0c0-6306-4e51-adf0-9685093dc8ef",
   "metadata": {},
   "source": [
    "## 8) Perimeter of a Triangle"
   ]
  },
  {
   "cell_type": "code",
   "execution_count": 33,
   "id": "440e1c55-b342-4f4b-8c6f-149d8a0ba0ea",
   "metadata": {},
   "outputs": [
    {
     "name": "stdin",
     "output_type": "stream",
     "text": [
      "Enter the Value of Angle `a`?   10\n",
      "Enter the Value of Angle `b`?   20\n",
      "Enter the Value of Angle? `c`?  30\n"
     ]
    },
    {
     "name": "stdout",
     "output_type": "stream",
     "text": [
      "60.0 meter\n"
     ]
    }
   ],
   "source": [
    "a = float(input(\"Enter the Value of Angle `a`?  \"))\n",
    "b = float(input(\"Enter the Value of Angle `b`?  \"))\n",
    "c = float(input(\"Enter the Value of Angle? `c`? \"))\n",
    "\n",
    "Perimeter = a+b+c\n",
    "print(Perimeter,\"meter\")"
   ]
  },
  {
   "cell_type": "markdown",
   "id": "c4a1605c-88a9-4a43-97f0-1a46faa346e2",
   "metadata": {},
   "source": [
    "## 9) Volume of a Sphere"
   ]
  },
  {
   "cell_type": "code",
   "execution_count": 36,
   "id": "6b74fb74-c29f-4083-96b1-6ae7e78017ad",
   "metadata": {},
   "outputs": [
    {
     "name": "stdin",
     "output_type": "stream",
     "text": [
      "Enter the Value of Radius?   5\n"
     ]
    },
    {
     "name": "stdout",
     "output_type": "stream",
     "text": [
      "523.3333333333334 m3\n"
     ]
    }
   ],
   "source": [
    "r = float(input(\"Enter the Value of Radius?  \"))\n",
    "\n",
    "Volume_of_a_Sphere = 4/3*3.14*r**3\n",
    "print(Volume_of_a_Sphere,\"m3\")\n",
    "\n"
   ]
  },
  {
   "cell_type": "markdown",
   "id": "a2d80a74-2681-425d-afe2-6c34359bd2be",
   "metadata": {},
   "source": [
    "## 10) Kinetic Energy"
   ]
  },
  {
   "cell_type": "code",
   "execution_count": 39,
   "id": "0daafa25-c867-43e7-86e3-f115cdb74985",
   "metadata": {},
   "outputs": [
    {
     "name": "stdin",
     "output_type": "stream",
     "text": [
      "Enter the Mass?  10\n",
      "Enter the Velocity?   5\n"
     ]
    },
    {
     "name": "stdout",
     "output_type": "stream",
     "text": [
      "125.0 Joules\n"
     ]
    }
   ],
   "source": [
    "m = float(input(\"Enter the Mass? \"))\n",
    "V = float(input(\"Enter the Velocity?  \"))\n",
    "\n",
    "Kinetic_Energy = 1/2*m*V**2\n",
    "print(Kinetic_Energy,\"Joules\")"
   ]
  },
  {
   "cell_type": "markdown",
   "id": "20a6375d-3fc9-479a-9374-e202a1403d7a",
   "metadata": {},
   "source": [
    "## 11) Quadratic Equation Roots"
   ]
  },
  {
   "cell_type": "code",
   "execution_count": 42,
   "id": "0f18cdab-c3c9-46fd-b9ae-5c63f2a8ef2d",
   "metadata": {},
   "outputs": [
    {
     "name": "stdin",
     "output_type": "stream",
     "text": [
      "Enter the coefficient a:  2\n",
      "Enter the coefficient b:  3\n",
      "Enter the constant c:  12\n"
     ]
    },
    {
     "name": "stdout",
     "output_type": "stream",
     "text": [
      "The roots are complex: -0.75 + 2.33i, -0.75 - 2.33i\n"
     ]
    }
   ],
   "source": [
    "import math\n",
    "\n",
    "# Taking inputs from the user\n",
    "a = float(input(\"Enter the coefficient a: \"))\n",
    "b = float(input(\"Enter the coefficient b: \"))\n",
    "c = float(input(\"Enter the constant c: \"))\n",
    "\n",
    "# Checking if it's a valid quadratic equation\n",
    "if a == 0:\n",
    "    print(\"This is not a quadratic equation (a cannot be 0).\")\n",
    "else:\n",
    "    # Calculating the discriminant\n",
    "    discriminant = b**2 - 4*a*c\n",
    "\n",
    "    if discriminant > 0:\n",
    "        # Two real and distinct roots\n",
    "        root1 = (-b + math.sqrt(discriminant)) / (2*a)\n",
    "        root2 = (-b - math.sqrt(discriminant)) / (2*a)\n",
    "        print(f\"The roots are real and distinct: {root1:.2f}, {root2:.2f}\")\n",
    "    elif discriminant == 0:\n",
    "        # One real and repeated root\n",
    "        root = -b / (2*a)\n",
    "        print(f\"The root is real and repeated: {root:.2f}\")\n",
    "    else:\n",
    "        # Complex roots\n",
    "        real_part = -b / (2*a)\n",
    "        imaginary_part = math.sqrt(-discriminant) / (2*a)\n",
    "        print(f\"The roots are complex: {real_part:.2f} + {imaginary_part:.2f}i, {real_part:.2f} - {imaginary_part:.2f}i\")\n"
   ]
  },
  {
   "cell_type": "markdown",
   "id": "1bf776f3-eb41-4729-882e-209d86ae1312",
   "metadata": {},
   "source": [
    "## 12) Temperature Conversion"
   ]
  },
  {
   "cell_type": "code",
   "execution_count": 45,
   "id": "03fabfdd-5c09-42a7-b171-710b60ba7cc4",
   "metadata": {},
   "outputs": [
    {
     "name": "stdin",
     "output_type": "stream",
     "text": [
      "Enter the Celsius °C Temperature Value?   4\n"
     ]
    },
    {
     "name": "stdout",
     "output_type": "stream",
     "text": [
      "The Temperature of 4.0 °C Celsius Changed into 39.2 °F Fahernite\n"
     ]
    }
   ],
   "source": [
    "C = float(input(\"Enter the Celsius °C Temperature Value?  \"))\n",
    "\n",
    "F = 9/5*C+32\n",
    "print(f\"The Temperature of {C} °C Celsius Changed into {F} °F Fahernite\")"
   ]
  },
  {
   "cell_type": "markdown",
   "id": "6f3d8ad4-2967-498a-95c3-aed001b96ea1",
   "metadata": {},
   "source": [
    "## 13) Gravitational Force"
   ]
  },
  {
   "cell_type": "code",
   "execution_count": 49,
   "id": "9c17edf4-243f-44d3-ae8b-360b0af23159",
   "metadata": {},
   "outputs": [
    {
     "name": "stdin",
     "output_type": "stream",
     "text": [
      "Enter the Mass 1 ?   10\n",
      "Enter the Mass 2 ?   20\n",
      "Enter the Radius ?   30\n"
     ]
    },
    {
     "name": "stdout",
     "output_type": "stream",
     "text": [
      "2.1777777777777776 N/m2\n"
     ]
    }
   ],
   "source": [
    "m1 = float(input(\"Enter the Mass 1 ?  \"))\n",
    "m2 = float(input(\"Enter the Mass 2 ?  \"))\n",
    "r = float(input(\"Enter the Radius ?  \"))\n",
    "\n",
    "Gravitational_Force = 9.8*m1*m2/r**2\n",
    "print(Gravitational_Force, \"N/m2\")"
   ]
  },
  {
   "cell_type": "markdown",
   "id": "a4f18021-6406-481c-ae9b-5c89f810b32a",
   "metadata": {},
   "source": [
    "## 14) Volume of a Cylinder"
   ]
  },
  {
   "cell_type": "code",
   "execution_count": 52,
   "id": "87b27fc7-8f2d-4548-8c9d-701ef36d4a8c",
   "metadata": {},
   "outputs": [
    {
     "name": "stdin",
     "output_type": "stream",
     "text": [
      "Enter the Radius?   5\n",
      "Enter the Height?   10\n"
     ]
    },
    {
     "name": "stdout",
     "output_type": "stream",
     "text": [
      "785.0 m3\n"
     ]
    }
   ],
   "source": [
    "r = float(input(\"Enter the Radius?  \"))\n",
    "h = float(input(\"Enter the Height?  \"))\n",
    "\n",
    "Volume = 3.14*r**2*h\n",
    "print(Volume,\"m3\")"
   ]
  },
  {
   "cell_type": "markdown",
   "id": "d45ac851-06ab-4c0b-8361-18d4309abac6",
   "metadata": {},
   "source": [
    "## 15) Pressure"
   ]
  },
  {
   "cell_type": "code",
   "execution_count": 57,
   "id": "d2eb5863-dbbc-45f4-bfb6-aff1e273fdc0",
   "metadata": {},
   "outputs": [
    {
     "name": "stdin",
     "output_type": "stream",
     "text": [
      "Enter the Value of Force?  100\n",
      "Enter the Value of Area?  20\n"
     ]
    },
    {
     "name": "stdout",
     "output_type": "stream",
     "text": [
      "5.0 Pascals\n"
     ]
    }
   ],
   "source": [
    "F = float(input(\"Enter the Value of Force? \"))\n",
    "A = float(input(\"Enter the Value of Area? \"))\n",
    "\n",
    "Pressure = F/A\n",
    "print(Pressure,\"Pascals\")"
   ]
  },
  {
   "cell_type": "markdown",
   "id": "6116b3ee-911f-4b7b-be5c-452ea99dbe5f",
   "metadata": {},
   "source": [
    "## 16) Electric Power"
   ]
  },
  {
   "cell_type": "code",
   "execution_count": 60,
   "id": "e09e97a6-711a-4eea-91c9-bab2b334292e",
   "metadata": {},
   "outputs": [
    {
     "name": "stdin",
     "output_type": "stream",
     "text": [
      "Enter the Amount of Voltage?   30\n",
      "Enter the Amount of Current?   20\n"
     ]
    },
    {
     "name": "stdout",
     "output_type": "stream",
     "text": [
      "1.5 Watt\n"
     ]
    }
   ],
   "source": [
    "V = float(input(\"Enter the Amount of Voltage?  \"))\n",
    "I = float(input(\"Enter the Amount of Current?  \"))\n",
    "\n",
    "Power = V/I\n",
    "print(Power,\"Watt\")"
   ]
  },
  {
   "cell_type": "markdown",
   "id": "87ddc5b8-100c-4549-ba7f-3eed8f11a7b6",
   "metadata": {},
   "source": [
    "## 17) Perimeter of a Circle (Circumference)"
   ]
  },
  {
   "cell_type": "code",
   "execution_count": 63,
   "id": "6c2e75ed-63fd-4b19-876b-ebfe1aca9c48",
   "metadata": {},
   "outputs": [
    {
     "name": "stdin",
     "output_type": "stream",
     "text": [
      "Enter the Radius?   10\n"
     ]
    },
    {
     "name": "stdout",
     "output_type": "stream",
     "text": [
      "62.800000000000004 m\n"
     ]
    }
   ],
   "source": [
    "r = float(input(\"Enter the Radius?  \"))\n",
    "\n",
    "Circumference_of_Circle = 2*3.14*r\n",
    "print(Circumference_of_Circle, \"m\")"
   ]
  },
  {
   "cell_type": "markdown",
   "id": "b051e31a-4c91-4d0c-835c-6a6b8ce56610",
   "metadata": {},
   "source": [
    "## 18) Future Value in Savings"
   ]
  },
  {
   "cell_type": "code",
   "execution_count": 68,
   "id": "99824502-9d53-4466-b7d4-977eaefc4e26",
   "metadata": {},
   "outputs": [
    {
     "name": "stdin",
     "output_type": "stream",
     "text": [
      "Enter the Present Value?   20000\n",
      "Enter the Rate Value?   10\n",
      "Enter the Time?  2\n"
     ]
    },
    {
     "name": "stdout",
     "output_type": "stream",
     "text": [
      "RS:  2420000.0\n"
     ]
    }
   ],
   "source": [
    "PV = float(input(\"Enter the Present Value?  \"))\n",
    "r = float(input(\"Enter the Rate Value?  \"))\n",
    "t = float(input(\"Enter the Time? \"))\n",
    "\n",
    "FV = PV*(1+r)**t\n",
    "print(\"RS: \",FV)"
   ]
  },
  {
   "cell_type": "markdown",
   "id": "88b6391f-6fea-4233-8b2c-9259ec285104",
   "metadata": {},
   "source": [
    "## 19) Work Done by a Force"
   ]
  },
  {
   "cell_type": "code",
   "execution_count": 71,
   "id": "76f6e0fe-a740-4251-b07e-996caaa58721",
   "metadata": {},
   "outputs": [
    {
     "name": "stdin",
     "output_type": "stream",
     "text": [
      "Enter the Value of Force?  50\n",
      "Enter the Value of Displacement?  20\n",
      "Enter the Value of Angle Theeta?  45\n"
     ]
    },
    {
     "name": "stdout",
     "output_type": "stream",
     "text": [
      "525.3219888177298\n"
     ]
    }
   ],
   "source": [
    "import math\n",
    "f = float(input(\"Enter the Value of Force? \"))\n",
    "d = float(input(\"Enter the Value of Displacement? \"))\n",
    "Theeta = float(input(\"Enter the Value of Angle Theeta? \"))\n",
    "Workdone = f*d*math.cos(Theeta)\n",
    "print(Workdone)\n"
   ]
  },
  {
   "cell_type": "markdown",
   "id": "cc631fcf-d540-4fce-96b4-0239105af8ec",
   "metadata": {},
   "source": [
    "## 20) Heat Transfer"
   ]
  },
  {
   "cell_type": "code",
   "execution_count": 74,
   "id": "4a16c24f-1592-4ff7-96f1-4cf09a1937b4",
   "metadata": {},
   "outputs": [
    {
     "name": "stdin",
     "output_type": "stream",
     "text": [
      "Enter the Value of Mass?  100\n",
      "Enter the Value of Heat Capacity?  20\n"
     ]
    },
    {
     "name": "stdout",
     "output_type": "stream",
     "text": [
      "2000.0 Joules\n"
     ]
    }
   ],
   "source": [
    "m = float(input(\"Enter the Value of Mass? \"))\n",
    "c = float(input(\"Enter the Value of Heat Capacity? \"))\n",
    "\n",
    "Q= m*c\n",
    "print(Q,\"Joules\")"
   ]
  },
  {
   "cell_type": "code",
   "execution_count": null,
   "id": "c76e925b-62e6-4aa0-a0b1-80cd2cb7920e",
   "metadata": {},
   "outputs": [],
   "source": []
  }
 ],
 "metadata": {
  "kernelspec": {
   "display_name": "Python 3 (ipykernel)",
   "language": "python",
   "name": "python3"
  },
  "language_info": {
   "codemirror_mode": {
    "name": "ipython",
    "version": 3
   },
   "file_extension": ".py",
   "mimetype": "text/x-python",
   "name": "python",
   "nbconvert_exporter": "python",
   "pygments_lexer": "ipython3",
   "version": "3.12.7"
  }
 },
 "nbformat": 4,
 "nbformat_minor": 5
}
