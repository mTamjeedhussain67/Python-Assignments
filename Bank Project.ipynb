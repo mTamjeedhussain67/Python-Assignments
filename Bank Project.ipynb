{
 "cells": [
  {
   "cell_type": "markdown",
   "id": "e2164632-47e6-4173-bd6e-30e8e82af71f",
   "metadata": {},
   "source": [
    "# Name: Muhammad Tamjeed Hussain\n",
    "# ID No: AI-333899\n",
    "\n",
    "## Bank Project"
   ]
  },
  {
   "cell_type": "code",
   "execution_count": 4,
   "id": "6dbc3c9c-dde6-4dc1-ba07-cf1b134cc755",
   "metadata": {},
   "outputs": [],
   "source": [
    "def accountopening():\n",
    "    account={}\n",
    "    print(\"ENTER YOUR NAME:\")\n",
    "    account[\"Name\"]=input().capitalize()\n",
    "    account[\"Balance\"]=0\n",
    "    account[\"Transactions\"]=[]\n",
    "    print(f\"Account for {account[\"Name\"]} created with balance {account[\"Balance\"]}$.\")\n",
    "    return account\n",
    "\n",
    "def deposit():\n",
    "    try:\n",
    "        amount=0\n",
    "        print(\"Enter A Number To Deposit\")\n",
    "        inp=float(input())\n",
    "\n",
    "        if inp<0:\n",
    "            print(\"Enter A Value Greater Than 0\")\n",
    "            return 0\n",
    "        else:\n",
    "            amount=inp\n",
    "            return amount\n",
    "    except:\n",
    "        pass\n",
    "        \n",
    "\n",
    "def withdraw():\n",
    "    try:\n",
    "        ammount=0\n",
    "        print(\"Enter A Number To Withdraw\")\n",
    "        inp=float(input())\n",
    "        if inp<0:\n",
    "            print(\"Enter A Value Greater Than 0\")\n",
    "            return 0\n",
    "        else:\n",
    "            ammount=inp\n",
    "            return ammount\n",
    "    except:\n",
    "        pass"
   ]
  },
  {
   "cell_type": "code",
   "execution_count": 6,
   "id": "b4945556-be49-4021-9e79-edb66fa2c571",
   "metadata": {},
   "outputs": [
    {
     "name": "stdout",
     "output_type": "stream",
     "text": [
      "Welcome to Tamjeed's Bank Pvt. Ltd.\n",
      "Please Selecet (1) To Open An Account And Then Select A Choice From (2-6)\n",
      "1.Account Opening\n",
      "2.Check Balance\n",
      "3.Deposit Ammount\n",
      "4.Withdraw Ammount\n",
      "5.Account Statment\n",
      "6.Exit\n"
     ]
    },
    {
     "name": "stdin",
     "output_type": "stream",
     "text": [
      " 1\n"
     ]
    },
    {
     "name": "stdout",
     "output_type": "stream",
     "text": [
      "ENTER YOUR NAME:\n"
     ]
    },
    {
     "name": "stdin",
     "output_type": "stream",
     "text": [
      " muhammad tamjeed hussain\n"
     ]
    },
    {
     "name": "stdout",
     "output_type": "stream",
     "text": [
      "Account for Muhammad tamjeed hussain created with balance 0$.\n",
      "Please Selecet (1) To Open An Account And Then Select A Choice From (2-6)\n",
      "1.Account Opening\n",
      "2.Check Balance\n",
      "3.Deposit Ammount\n",
      "4.Withdraw Ammount\n",
      "5.Account Statment\n",
      "6.Exit\n"
     ]
    },
    {
     "name": "stdin",
     "output_type": "stream",
     "text": [
      " 2\n"
     ]
    },
    {
     "name": "stdout",
     "output_type": "stream",
     "text": [
      "Current balance is 0$.\n",
      "Please Selecet (1) To Open An Account And Then Select A Choice From (2-6)\n",
      "1.Account Opening\n",
      "2.Check Balance\n",
      "3.Deposit Ammount\n",
      "4.Withdraw Ammount\n",
      "5.Account Statment\n",
      "6.Exit\n"
     ]
    },
    {
     "name": "stdin",
     "output_type": "stream",
     "text": [
      " 3\n"
     ]
    },
    {
     "name": "stdout",
     "output_type": "stream",
     "text": [
      "Enter A Number To Deposit\n"
     ]
    },
    {
     "name": "stdin",
     "output_type": "stream",
     "text": [
      " 100\n"
     ]
    },
    {
     "name": "stdout",
     "output_type": "stream",
     "text": [
      "Muhammad tamjeed hussain deposited 100.0$.New balance is now 100.0$.\n",
      "Please Selecet (1) To Open An Account And Then Select A Choice From (2-6)\n",
      "1.Account Opening\n",
      "2.Check Balance\n",
      "3.Deposit Ammount\n",
      "4.Withdraw Ammount\n",
      "5.Account Statment\n",
      "6.Exit\n"
     ]
    },
    {
     "name": "stdin",
     "output_type": "stream",
     "text": [
      " 4\n"
     ]
    },
    {
     "name": "stdout",
     "output_type": "stream",
     "text": [
      "Enter A Number To Withdraw\n"
     ]
    },
    {
     "name": "stdin",
     "output_type": "stream",
     "text": [
      " 20\n"
     ]
    },
    {
     "name": "stdout",
     "output_type": "stream",
     "text": [
      "Muhammad tamjeed hussain withdrew 20.0$.New balance is now 80.0$.\n",
      "Please Selecet (1) To Open An Account And Then Select A Choice From (2-6)\n",
      "1.Account Opening\n",
      "2.Check Balance\n",
      "3.Deposit Ammount\n",
      "4.Withdraw Ammount\n",
      "5.Account Statment\n",
      "6.Exit\n"
     ]
    },
    {
     "name": "stdin",
     "output_type": "stream",
     "text": [
      " 5\n"
     ]
    },
    {
     "name": "stdout",
     "output_type": "stream",
     "text": [
      "Account Statement of Muhammad tamjeed hussain\n",
      "--Deposited: 100.0$. New Balance: 100.0$.\n",
      "--Withdrawal: 20.0$. New Balance: 80.0$.\n",
      "Please Selecet (1) To Open An Account And Then Select A Choice From (2-6)\n",
      "1.Account Opening\n",
      "2.Check Balance\n",
      "3.Deposit Ammount\n",
      "4.Withdraw Ammount\n",
      "5.Account Statment\n",
      "6.Exit\n"
     ]
    },
    {
     "name": "stdin",
     "output_type": "stream",
     "text": [
      " 6\n"
     ]
    },
    {
     "name": "stdout",
     "output_type": "stream",
     "text": [
      "Thank You For Using Our Services\n"
     ]
    }
   ],
   "source": [
    "data=0\n",
    "if_running=True\n",
    "print(\"Welcome to Tamjeed's Bank Pvt. Ltd.\")\n",
    "while if_running:\n",
    "    print(\"Please Selecet (1) To Open An Account And Then Select A Choice From (2-6)\\n1.Account Opening\\n2.Check Balance\\n3.Deposit Ammount\\n4.Withdraw Ammount\\n5.Account Statment\\n6.Exit\")\n",
    "    try:\n",
    "        num=int(input())\n",
    "    except:\n",
    "        print(\"Enter A Number\")\n",
    "    if num==1:\n",
    "        data=accountopening()\n",
    "    elif num==2:\n",
    "        print(f\"Current balance is {data[\"Balance\"]}$.\")\n",
    "    elif num==3:\n",
    "        try:\n",
    "            ammount=deposit()\n",
    "            data[\"Balance\"]+=ammount\n",
    "            print(f\"{data[\"Name\"]} deposited {ammount}$.New balance is now {data[\"Balance\"]}$.\")\n",
    "            data[\"Transactions\"].append(ammount)\n",
    "        except:\n",
    "            print(\"Please Enter A Number\")\n",
    "    elif num==4:\n",
    "        try:\n",
    "            ammount=withdraw()\n",
    "            if ammount>data[\"Balance\"]: \n",
    "                print(\"Insufficient Balance\")\n",
    "            else:\n",
    "                data[\"Balance\"]-=ammount\n",
    "                print(f\"{data[\"Name\"]} withdrew {ammount}$.New balance is now {data[\"Balance\"]}$.\")\n",
    "                data[\"Transactions\"].append(-ammount)\n",
    "        except:\n",
    "            print(\"Please Enter A Number\")    \n",
    "    elif num==5:\n",
    "        blnc=0\n",
    "        print(f\"Account Statement of {data[\"Name\"]}\")\n",
    "        for a in data[\"Transactions\"]:\n",
    "            if a >0:\n",
    "                blnc+=a\n",
    "                print(f\"--Deposited: {a}$. New Balance: {blnc}$.\")\n",
    "            elif a<0:\n",
    "                blnc+=a\n",
    "                print(f\"--Withdrawal: {-a}$. New Balance: {blnc}$.\")\n",
    "    elif num ==6:\n",
    "        if_running=False    \n",
    "        print(\"Thank You For Using Our Services\")\n",
    "    else:\n",
    "        print(\"Please Enter A Valid Choice\")\n",
    "        \n",
    "        "
   ]
  },
  {
   "cell_type": "code",
   "execution_count": null,
   "id": "561cd644-1e12-4c92-89dc-dc9c54ee6cf6",
   "metadata": {},
   "outputs": [],
   "source": []
  },
  {
   "cell_type": "code",
   "execution_count": null,
   "id": "6458dcc8-2785-4205-aad5-14e5c2077fb8",
   "metadata": {},
   "outputs": [],
   "source": []
  }
 ],
 "metadata": {
  "kernelspec": {
   "display_name": "Python 3 (ipykernel)",
   "language": "python",
   "name": "python3"
  },
  "language_info": {
   "codemirror_mode": {
    "name": "ipython",
    "version": 3
   },
   "file_extension": ".py",
   "mimetype": "text/x-python",
   "name": "python",
   "nbconvert_exporter": "python",
   "pygments_lexer": "ipython3",
   "version": "3.12.7"
  }
 },
 "nbformat": 4,
 "nbformat_minor": 5
}
