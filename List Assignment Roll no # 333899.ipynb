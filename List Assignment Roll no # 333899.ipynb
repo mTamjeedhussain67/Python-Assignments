{
 "cells": [
  {
   "cell_type": "markdown",
   "id": "c956ab2d-0291-4876-99f0-eaabfaae194d",
   "metadata": {},
   "source": [
    "# Name: Muhammad Tamjeed Hussain - Roll: 333998"
   ]
  },
  {
   "cell_type": "markdown",
   "id": "3f2544de-e4eb-42c7-9ef9-b05b03e7f045",
   "metadata": {},
   "source": [
    "## List Assignment"
   ]
  },
  {
   "cell_type": "markdown",
   "id": "4bd9a79e",
   "metadata": {},
   "source": [
    "### 1. Write a program that accepts a list from user and print the alternate element of list. "
   ]
  },
  {
   "cell_type": "code",
   "execution_count": 10,
   "id": "39648679",
   "metadata": {},
   "outputs": [
    {
     "name": "stdout",
     "output_type": "stream",
     "text": [
      "Enter the item name: mango\n",
      "Enter the item name: orange\n",
      "Enter the item name: apricot\n",
      "Enter the item name: guavava\n",
      "Orange\n"
     ]
    }
   ],
   "source": [
    "list1=[input(\"Enter the item name: \").capitalize(),input(\"Enter the item name: \").capitalize(),input(\"Enter the item name: \").capitalize(),input(\"Enter the item name: \").capitalize()]\n",
    "\n",
    "print(list[1])"
   ]
  },
  {
   "cell_type": "markdown",
   "id": "2d2b53a3",
   "metadata": {},
   "source": [
    "### 2. Write a program that accepts a list from user. Your program should reverse the content of list and display it. Do not use reverse() method."
   ]
  },
  {
   "cell_type": "code",
   "execution_count": 22,
   "id": "2897583c",
   "metadata": {},
   "outputs": [
    {
     "name": "stdout",
     "output_type": "stream",
     "text": [
      "Enter the item name: mango\n",
      "Enter the item name: apricot\n",
      "Enter the item name: guava\n",
      "Enter the item name: banana\n",
      "['Banana', 'Guava', 'Apricot', 'Mango']\n"
     ]
    }
   ],
   "source": [
    "list1=[input(\"Enter the item name: \").capitalize(),input(\"Enter the item name: \").capitalize(),input(\"Enter the item name: \").capitalize(),input(\"Enter the item name: \").capitalize()]\n",
    "\n",
    "print(list1[-1:-5:-1])"
   ]
  },
  {
   "cell_type": "markdown",
   "id": "c62ce070",
   "metadata": {},
   "source": [
    "### 3. Find and display the largest number of a list without using built-in function max(). Your program should ask the user to input values in list from keyboard."
   ]
  },
  {
   "cell_type": "code",
   "execution_count": 46,
   "id": "43bfb4ff",
   "metadata": {},
   "outputs": [
    {
     "name": "stdout",
     "output_type": "stream",
     "text": [
      "Enter a number: 10\n",
      "Enter a number: 2\n",
      "Enter a number: 80\n",
      "Enter a number: 4\n",
      "80\n"
     ]
    }
   ],
   "source": [
    "num1=[int(input(\"Enter a number: \")),int(input(\"Enter a number: \")),int(input(\"Enter a number: \")),int(input(\"Enter a number: \"))]\n",
    "\n",
    "high=0\n",
    "\n",
    "for number in num1:\n",
    "    if number>high:\n",
    "        high=number\n",
    "        \n",
    "print(high)"
   ]
  },
  {
   "cell_type": "markdown",
   "id": "b2766db3",
   "metadata": {},
   "source": [
    "### 4. Write a program that rotates the element of a list so that the element at the first index moves to the second index, the element in the second index moves to the third index, etc., and the element in the last index moves to the first index."
   ]
  },
  {
   "cell_type": "code",
   "execution_count": 5,
   "id": "aeba6f10",
   "metadata": {},
   "outputs": [
    {
     "name": "stdout",
     "output_type": "stream",
     "text": [
      "Original list: [1, 2, 3, 4, 5]\n",
      "Rotated list: [5, 1, 2, 3, 4]\n"
     ]
    }
   ],
   "source": [
    "def rotate_list(lst):\n",
    "   \n",
    "    if len(lst) == 0:\n",
    "        return lst\n",
    "    \n",
    "    return [lst[-1]] + lst[:-1]\n",
    "\n",
    "\n",
    "my_list = [1, 2, 3, 4, 5]\n",
    "rotated_list = rotate_list(my_list)\n",
    "\n",
    "\n",
    "print(\"Original list:\", my_list)\n",
    "print(\"Rotated list:\", rotated_list)\n"
   ]
  },
  {
   "cell_type": "markdown",
   "id": "36cbbdd5-5a5b-4cca-ab0b-209302421409",
   "metadata": {},
   "source": [
    "### 5. Write a program that input a string and ask user to delete a given word from a string. "
   ]
  },
  {
   "cell_type": "code",
   "execution_count": null,
   "id": "35542208-0b74-42af-b932-57a19d8fbe6a",
   "metadata": {},
   "outputs": [],
   "source": []
  }
 ],
 "metadata": {
  "kernelspec": {
   "display_name": "Python 3 (ipykernel)",
   "language": "python",
   "name": "python3"
  },
  "language_info": {
   "codemirror_mode": {
    "name": "ipython",
    "version": 3
   },
   "file_extension": ".py",
   "mimetype": "text/x-python",
   "name": "python",
   "nbconvert_exporter": "python",
   "pygments_lexer": "ipython3",
   "version": "3.12.7"
  }
 },
 "nbformat": 4,
 "nbformat_minor": 5
}
