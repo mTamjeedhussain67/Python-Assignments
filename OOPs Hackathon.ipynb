{
 "cells": [
  {
   "cell_type": "markdown",
   "id": "5926a453-6ee9-4b24-a8a8-e4773ab240a1",
   "metadata": {},
   "source": [
    "# Name : Muhammad Tamjeed Hussain"
   ]
  },
  {
   "cell_type": "markdown",
   "id": "063c4ee1-7e1b-4be8-b2de-4dbda2541463",
   "metadata": {},
   "source": [
    "# Roll No : 333899"
   ]
  },
  {
   "cell_type": "code",
   "execution_count": 17,
   "id": "5db2a82a-c6af-4ae1-9b6e-8cc7ab3dcda9",
   "metadata": {},
   "outputs": [],
   "source": [
    "class BankAccount:\n",
    "    def __init__(self, account_number, account_holder, initial_balance=0):\n",
    "        self.account_number = account_number\n",
    "        self.account_holder = account_holder\n",
    "        self.balance = initial_balance\n",
    "        self.transactions = []\n",
    "\n",
    "    def deposit(self, amount):\n",
    "        if amount > 0:\n",
    "            self.balance += amount\n",
    "            self.add_transaction(f\"Deposit: RS:{amount}\")\n",
    "            print(f\"RS:{amount} deposited successfully. New balance: RS:{self.balance}\")\n",
    "        else:\n",
    "            print(\"Invalid deposit amount.\")\n",
    "\n",
    "    def withdraw(self, amount):\n",
    "        if amount > 0 and amount <= self.balance:\n",
    "            self.balance -= amount\n",
    "            self.add_transaction(f\"Withdrawal: RS:{amount}\")\n",
    "            print(f\"RS:{amount} withdrawn successfully. New balance: RS:{self.balance}\")\n",
    "        else:\n",
    "            print(\"Insufficient funds or invalid amount.\")\n",
    "\n",
    "    def add_transaction(self, description):\n",
    "        self.transactions.append(description)\n",
    "\n",
    "    def print_statement(self):\n",
    "        print(f\"\\nStatement for Account {self.account_number} ({self.account_holder}):\")\n",
    "        for transaction in self.transactions:\n",
    "            print(transaction)\n",
    "        print(f\"Current Balance: RS:{self.balance}\\n\")\n"
   ]
  },
  {
   "cell_type": "code",
   "execution_count": 19,
   "id": "72b18d7e-dbcc-4bbd-b675-81a393e05cf4",
   "metadata": {},
   "outputs": [],
   "source": [
    "class Bank:\n",
    "    def __init__(self):\n",
    "        self.accounts = {}\n",
    "        self.next_account_number = 1001\n",
    "\n",
    "    def open_account(self, account_holder):\n",
    "        account = BankAccount(self.next_account_number, account_holder)\n",
    "        self.accounts[self.next_account_number] = account\n",
    "        print(f\"Account has been created successfully! Account Number: {self.next_account_number}\")\n",
    "        self.next_account_number += 1\n",
    "\n",
    "    def get_account(self, account_number):\n",
    "        return self.accounts.get(account_number, None)\n",
    "\n",
    "    def transfer(self, sender_account_number, receiver_account_number, amount):\n",
    "        sender = self.get_account(sender_account_number)\n",
    "        receiver = self.get_account(receiver_account_number)\n",
    "        if sender and receiver:\n",
    "            if sender.balance >= amount:\n",
    "                sender.withdraw(amount)\n",
    "                receiver.deposit(amount)\n",
    "                print(f\"Transfer of RS:{amount} from Account {sender_account_number} to {receiver_account_number} successful!\")\n",
    "            else:\n",
    "                print(\"Insufficient balance in sender's account.\")\n",
    "        else:\n",
    "            print(\"Invalid account number(s).\")\n",
    "\n",
    "    def admin_check_total_deposit(self):\n",
    "        total_deposit = sum(account.balance for account in self.accounts.values())\n",
    "        print(f\"Total deposits in the bank: RS:{total_deposit}\")\n",
    "\n",
    "    def admin_check_total_accounts(self):\n",
    "        print(f\"Total number of accounts in the bank: {len(self.accounts)}\")\n"
   ]
  },
  {
   "cell_type": "code",
   "execution_count": 21,
   "id": "71b5ab7d-b104-4aff-add9-0c8f1cd060dd",
   "metadata": {},
   "outputs": [
    {
     "name": "stdout",
     "output_type": "stream",
     "text": [
      "\n",
      "--- Welcome to The Banking System Menu ---\n",
      "1. Open an Account\n",
      "2. Deposit Money\n",
      "3. Withdraw Money\n",
      "4. Check Balance\n",
      "5. Transfer Money\n",
      "6. View Transaction Statement\n",
      "7. Admin: Check Total Deposits\n",
      "8. Admin: Check Total Accounts\n",
      "9. Exit\n"
     ]
    },
    {
     "name": "stdin",
     "output_type": "stream",
     "text": [
      "Enter your choice:  1\n",
      "Enter account holder's name:  Raqib Ali\n"
     ]
    },
    {
     "name": "stdout",
     "output_type": "stream",
     "text": [
      "Account has been created successfully! Account Number: 1001\n",
      "\n",
      "--- Welcome to The Banking System Menu ---\n",
      "1. Open an Account\n",
      "2. Deposit Money\n",
      "3. Withdraw Money\n",
      "4. Check Balance\n",
      "5. Transfer Money\n",
      "6. View Transaction Statement\n",
      "7. Admin: Check Total Deposits\n",
      "8. Admin: Check Total Accounts\n",
      "9. Exit\n"
     ]
    },
    {
     "name": "stdin",
     "output_type": "stream",
     "text": [
      "Enter your choice:  1\n",
      "Enter account holder's name:  Muhammad Tamjeed Hussain\n"
     ]
    },
    {
     "name": "stdout",
     "output_type": "stream",
     "text": [
      "Account has been created successfully! Account Number: 1002\n",
      "\n",
      "--- Welcome to The Banking System Menu ---\n",
      "1. Open an Account\n",
      "2. Deposit Money\n",
      "3. Withdraw Money\n",
      "4. Check Balance\n",
      "5. Transfer Money\n",
      "6. View Transaction Statement\n",
      "7. Admin: Check Total Deposits\n",
      "8. Admin: Check Total Accounts\n",
      "9. Exit\n"
     ]
    },
    {
     "name": "stdin",
     "output_type": "stream",
     "text": [
      "Enter your choice:  2\n",
      "Enter account number:  1001\n",
      "Enter deposit amount:  5000\n"
     ]
    },
    {
     "name": "stdout",
     "output_type": "stream",
     "text": [
      "RS:5000.0 deposited successfully. New balance: RS:5000.0\n",
      "\n",
      "--- Welcome to The Banking System Menu ---\n",
      "1. Open an Account\n",
      "2. Deposit Money\n",
      "3. Withdraw Money\n",
      "4. Check Balance\n",
      "5. Transfer Money\n",
      "6. View Transaction Statement\n",
      "7. Admin: Check Total Deposits\n",
      "8. Admin: Check Total Accounts\n",
      "9. Exit\n"
     ]
    },
    {
     "name": "stdin",
     "output_type": "stream",
     "text": [
      "Enter your choice:  3\n",
      "Enter account number:  1001\n",
      "Enter withdrawal amount:  1500\n"
     ]
    },
    {
     "name": "stdout",
     "output_type": "stream",
     "text": [
      "RS:1500.0 withdrawn successfully. New balance: RS:3500.0\n",
      "\n",
      "--- Welcome to The Banking System Menu ---\n",
      "1. Open an Account\n",
      "2. Deposit Money\n",
      "3. Withdraw Money\n",
      "4. Check Balance\n",
      "5. Transfer Money\n",
      "6. View Transaction Statement\n",
      "7. Admin: Check Total Deposits\n",
      "8. Admin: Check Total Accounts\n",
      "9. Exit\n"
     ]
    },
    {
     "name": "stdin",
     "output_type": "stream",
     "text": [
      "Enter your choice:  4\n",
      "Enter account number:  5\n"
     ]
    },
    {
     "name": "stdout",
     "output_type": "stream",
     "text": [
      "Invalid account number.\n",
      "\n",
      "--- Welcome to The Banking System Menu ---\n",
      "1. Open an Account\n",
      "2. Deposit Money\n",
      "3. Withdraw Money\n",
      "4. Check Balance\n",
      "5. Transfer Money\n",
      "6. View Transaction Statement\n",
      "7. Admin: Check Total Deposits\n",
      "8. Admin: Check Total Accounts\n",
      "9. Exit\n"
     ]
    },
    {
     "name": "stdin",
     "output_type": "stream",
     "text": [
      "Enter your choice:  4\n",
      "Enter account number:  1002\n"
     ]
    },
    {
     "name": "stdout",
     "output_type": "stream",
     "text": [
      "Current balance: RS:0\n",
      "\n",
      "--- Welcome to The Banking System Menu ---\n",
      "1. Open an Account\n",
      "2. Deposit Money\n",
      "3. Withdraw Money\n",
      "4. Check Balance\n",
      "5. Transfer Money\n",
      "6. View Transaction Statement\n",
      "7. Admin: Check Total Deposits\n",
      "8. Admin: Check Total Accounts\n",
      "9. Exit\n"
     ]
    },
    {
     "name": "stdin",
     "output_type": "stream",
     "text": [
      "Enter your choice:  5\n",
      "Enter sender's account number:  1001\n",
      "Enter receiver's account number:  1002\n",
      "Enter transfer amount:  1500\n"
     ]
    },
    {
     "name": "stdout",
     "output_type": "stream",
     "text": [
      "RS:1500.0 withdrawn successfully. New balance: RS:2000.0\n",
      "RS:1500.0 deposited successfully. New balance: RS:1500.0\n",
      "Transfer of RS:1500.0 from Account 1001 to 1002 successful!\n",
      "\n",
      "--- Welcome to The Banking System Menu ---\n",
      "1. Open an Account\n",
      "2. Deposit Money\n",
      "3. Withdraw Money\n",
      "4. Check Balance\n",
      "5. Transfer Money\n",
      "6. View Transaction Statement\n",
      "7. Admin: Check Total Deposits\n",
      "8. Admin: Check Total Accounts\n",
      "9. Exit\n"
     ]
    },
    {
     "name": "stdin",
     "output_type": "stream",
     "text": [
      "Enter your choice:  6\n",
      "Enter account number:  1001\n"
     ]
    },
    {
     "name": "stdout",
     "output_type": "stream",
     "text": [
      "\n",
      "Statement for Account 1001 (Raqib Ali):\n",
      "Deposit: RS:5000.0\n",
      "Withdrawal: RS:1500.0\n",
      "Withdrawal: RS:1500.0\n",
      "Current Balance: RS:2000.0\n",
      "\n",
      "\n",
      "--- Welcome to The Banking System Menu ---\n",
      "1. Open an Account\n",
      "2. Deposit Money\n",
      "3. Withdraw Money\n",
      "4. Check Balance\n",
      "5. Transfer Money\n",
      "6. View Transaction Statement\n",
      "7. Admin: Check Total Deposits\n",
      "8. Admin: Check Total Accounts\n",
      "9. Exit\n"
     ]
    },
    {
     "name": "stdin",
     "output_type": "stream",
     "text": [
      "Enter your choice:  7\n"
     ]
    },
    {
     "name": "stdout",
     "output_type": "stream",
     "text": [
      "Total deposits in the bank: RS:3500.0\n",
      "\n",
      "--- Welcome to The Banking System Menu ---\n",
      "1. Open an Account\n",
      "2. Deposit Money\n",
      "3. Withdraw Money\n",
      "4. Check Balance\n",
      "5. Transfer Money\n",
      "6. View Transaction Statement\n",
      "7. Admin: Check Total Deposits\n",
      "8. Admin: Check Total Accounts\n",
      "9. Exit\n"
     ]
    },
    {
     "name": "stdin",
     "output_type": "stream",
     "text": [
      "Enter your choice:  8\n"
     ]
    },
    {
     "name": "stdout",
     "output_type": "stream",
     "text": [
      "Total number of accounts in the bank: 2\n",
      "\n",
      "--- Welcome to The Banking System Menu ---\n",
      "1. Open an Account\n",
      "2. Deposit Money\n",
      "3. Withdraw Money\n",
      "4. Check Balance\n",
      "5. Transfer Money\n",
      "6. View Transaction Statement\n",
      "7. Admin: Check Total Deposits\n",
      "8. Admin: Check Total Accounts\n",
      "9. Exit\n"
     ]
    },
    {
     "name": "stdin",
     "output_type": "stream",
     "text": [
      "Enter your choice:  9\n"
     ]
    },
    {
     "name": "stdout",
     "output_type": "stream",
     "text": [
      "Exiting the banking system. Goodbye!\n"
     ]
    }
   ],
   "source": [
    "def main():\n",
    "    bank = Bank()\n",
    "\n",
    "    while True:\n",
    "        print(\"\\n--- Welcome to The Banking System Menu ---\")\n",
    "        print(\"1. Open an Account\")\n",
    "        print(\"2. Deposit Money\")\n",
    "        print(\"3. Withdraw Money\")\n",
    "        print(\"4. Check Balance\")\n",
    "        print(\"5. Transfer Money\")\n",
    "        print(\"6. View Transaction Statement\")\n",
    "        print(\"7. Admin: Check Total Deposits\")\n",
    "        print(\"8. Admin: Check Total Accounts\")\n",
    "        print(\"9. Exit\")\n",
    "\n",
    "        choice = input(\"Enter your choice: \")\n",
    "\n",
    "        if choice == \"1\":\n",
    "            name = input(\"Enter account holder's name: \")\n",
    "            bank.open_account(name)\n",
    "        elif choice == \"2\":\n",
    "            account_number = int(input(\"Enter account number: \"))\n",
    "            account = bank.get_account(account_number)\n",
    "            if account:\n",
    "                amount = float(input(\"Enter deposit amount: \"))\n",
    "                account.deposit(amount)\n",
    "            else:\n",
    "                print(\"Invalid account number.\")\n",
    "        elif choice == \"3\":\n",
    "            account_number = int(input(\"Enter account number: \"))\n",
    "            account = bank.get_account(account_number)\n",
    "            if account:\n",
    "                amount = float(input(\"Enter withdrawal amount: \"))\n",
    "                account.withdraw(amount)\n",
    "            else:\n",
    "                print(\"Invalid account number.\")\n",
    "        elif choice == \"4\":\n",
    "            account_number = int(input(\"Enter account number: \"))\n",
    "            account = bank.get_account(account_number)\n",
    "            if account:\n",
    "                print(f\"Current balance: RS:{account.balance}\")\n",
    "            else:\n",
    "                print(\"Invalid account number.\")\n",
    "        elif choice == \"5\":\n",
    "            sender_account = int(input(\"Enter sender's account number: \"))\n",
    "            receiver_account = int(input(\"Enter receiver's account number: \"))\n",
    "            amount = float(input(\"Enter transfer amount: \"))\n",
    "            bank.transfer(sender_account, receiver_account, amount)\n",
    "        elif choice == \"6\":\n",
    "            account_number = int(input(\"Enter account number: \"))\n",
    "            account = bank.get_account(account_number)\n",
    "            if account:\n",
    "                account.print_statement()\n",
    "            else:\n",
    "                print(\"Invalid account number.\")\n",
    "        elif choice == \"7\":\n",
    "            bank.admin_check_total_deposit()\n",
    "        elif choice == \"8\":\n",
    "            bank.admin_check_total_accounts()\n",
    "        elif choice == \"9\":\n",
    "            print(\"Exiting the banking system. Goodbye!\")\n",
    "            break\n",
    "        else:\n",
    "            print(\"Invalid choice. Please try again.\")\n",
    "\n",
    "if __name__ == \"__main__\":\n",
    "    main()\n"
   ]
  },
  {
   "cell_type": "code",
   "execution_count": null,
   "id": "6f5bb4ae-22a1-4388-9153-391f9e4b2136",
   "metadata": {},
   "outputs": [],
   "source": []
  },
  {
   "cell_type": "code",
   "execution_count": null,
   "id": "46de9b63-a9b7-4618-a82f-8cfa329dac44",
   "metadata": {},
   "outputs": [],
   "source": []
  }
 ],
 "metadata": {
  "kernelspec": {
   "display_name": "Python 3 (ipykernel)",
   "language": "python",
   "name": "python3"
  },
  "language_info": {
   "codemirror_mode": {
    "name": "ipython",
    "version": 3
   },
   "file_extension": ".py",
   "mimetype": "text/x-python",
   "name": "python",
   "nbconvert_exporter": "python",
   "pygments_lexer": "ipython3",
   "version": "3.12.7"
  }
 },
 "nbformat": 4,
 "nbformat_minor": 5
}
